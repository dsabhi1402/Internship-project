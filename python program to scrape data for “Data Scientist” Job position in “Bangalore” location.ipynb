{
 "cells": [
  {
   "cell_type": "code",
   "execution_count": 1,
   "id": "ecc72b1d",
   "metadata": {},
   "outputs": [
    {
     "name": "stdout",
     "output_type": "stream",
     "text": [
      "Requirement already satisfied: selenium in c:\\users\\hp\\anaconda3\\lib\\site-packages (4.1.3)\n",
      "Requirement already satisfied: urllib3[secure,socks]~=1.26 in c:\\users\\hp\\anaconda3\\lib\\site-packages (from selenium) (1.26.4)\n",
      "Requirement already satisfied: trio-websocket~=0.9 in c:\\users\\hp\\anaconda3\\lib\\site-packages (from selenium) (0.9.2)\n",
      "Requirement already satisfied: trio~=0.17 in c:\\users\\hp\\anaconda3\\lib\\site-packages (from selenium) (0.20.0)\n",
      "Requirement already satisfied: cffi>=1.14 in c:\\users\\hp\\anaconda3\\lib\\site-packages (from trio~=0.17->selenium) (1.14.5)\n",
      "Requirement already satisfied: attrs>=19.2.0 in c:\\users\\hp\\anaconda3\\lib\\site-packages (from trio~=0.17->selenium) (20.3.0)\n",
      "Requirement already satisfied: async-generator>=1.9 in c:\\users\\hp\\anaconda3\\lib\\site-packages (from trio~=0.17->selenium) (1.10)\n",
      "Requirement already satisfied: outcome in c:\\users\\hp\\anaconda3\\lib\\site-packages (from trio~=0.17->selenium) (1.1.0)\n",
      "Requirement already satisfied: sniffio in c:\\users\\hp\\anaconda3\\lib\\site-packages (from trio~=0.17->selenium) (1.2.0)\n",
      "Requirement already satisfied: sortedcontainers in c:\\users\\hp\\anaconda3\\lib\\site-packages (from trio~=0.17->selenium) (2.3.0)\n",
      "Requirement already satisfied: idna in c:\\users\\hp\\anaconda3\\lib\\site-packages (from trio~=0.17->selenium) (2.10)\n",
      "Requirement already satisfied: pycparser in c:\\users\\hp\\anaconda3\\lib\\site-packages (from cffi>=1.14->trio~=0.17->selenium) (2.20)\n",
      "Requirement already satisfied: wsproto>=0.14 in c:\\users\\hp\\anaconda3\\lib\\site-packages (from trio-websocket~=0.9->selenium) (1.1.0)\n",
      "Requirement already satisfied: certifi in c:\\users\\hp\\anaconda3\\lib\\site-packages (from urllib3[secure,socks]~=1.26->selenium) (2020.12.5)\n",
      "Requirement already satisfied: cryptography>=1.3.4 in c:\\users\\hp\\anaconda3\\lib\\site-packages (from urllib3[secure,socks]~=1.26->selenium) (3.4.7)\n",
      "Requirement already satisfied: pyOpenSSL>=0.14 in c:\\users\\hp\\anaconda3\\lib\\site-packages (from urllib3[secure,socks]~=1.26->selenium) (20.0.1)\n",
      "Requirement already satisfied: PySocks!=1.5.7,<2.0,>=1.5.6 in c:\\users\\hp\\anaconda3\\lib\\site-packages (from urllib3[secure,socks]~=1.26->selenium) (1.7.1)\n",
      "Requirement already satisfied: six>=1.5.2 in c:\\users\\hp\\anaconda3\\lib\\site-packages (from pyOpenSSL>=0.14->urllib3[secure,socks]~=1.26->selenium) (1.15.0)\n",
      "Requirement already satisfied: h11<1,>=0.9.0 in c:\\users\\hp\\anaconda3\\lib\\site-packages (from wsproto>=0.14->trio-websocket~=0.9->selenium) (0.13.0)\n"
     ]
    }
   ],
   "source": [
    "!pip install selenium"
   ]
  },
  {
   "cell_type": "code",
   "execution_count": 2,
   "id": "6f96d800",
   "metadata": {},
   "outputs": [],
   "source": [
    "import selenium\n",
    "import pandas as pd\n",
    "from selenium import webdriver\n",
    "import warnings\n",
    "warnings.filterwarnings(\"ignore\")\n",
    "import time"
   ]
  },
  {
   "cell_type": "code",
   "execution_count": 3,
   "id": "537663fa",
   "metadata": {},
   "outputs": [],
   "source": [
    "driver=webdriver.Chrome(r\"C:\\Users\\HP\\Downloads\\chromedriver_win32\\chromedriver.exe\")"
   ]
  },
  {
   "cell_type": "code",
   "execution_count": 4,
   "id": "9edda709",
   "metadata": {},
   "outputs": [],
   "source": [
    "driver=webdriver.Chrome(\"chromedriver.exe\")\n",
    "time.sleep(2)"
   ]
  },
  {
   "cell_type": "code",
   "execution_count": 6,
   "id": "9bd27c72",
   "metadata": {},
   "outputs": [],
   "source": [
    "driver.get('https://www.naukri.com/')"
   ]
  },
  {
   "cell_type": "code",
   "execution_count": 7,
   "id": "ba89435e",
   "metadata": {},
   "outputs": [],
   "source": [
    "search_field_designation=driver.find_element_by_class_name(\"suggestor-input\")\n",
    "search_field_designation.send_keys(\"Data Scientist\")\n",
    "search_field_location=driver.find_element_by_xpath('/html/body/div/div[2]/div[3]/div/div/div[3]/div/div/div/input')\n",
    "search_field_location.send_keys(\"Bangalore\")"
   ]
  },
  {
   "cell_type": "code",
   "execution_count": 9,
   "id": "74dd7622",
   "metadata": {},
   "outputs": [],
   "source": [
    "search_button=driver.find_element_by_xpath(\"/html/body/div/div[2]/div[3]/div/div/div[5]/div/input\")\n",
    "search_button.click()"
   ]
  },
  {
   "cell_type": "code",
   "execution_count": 10,
   "id": "e2231427",
   "metadata": {},
   "outputs": [],
   "source": [
    "url=\"https://www.naukri.com/data-scientist-jobs-in-bangalore-bengaluru?k=data%20analyst&l=bangalore%2Fbengaluru\""
   ]
  },
  {
   "cell_type": "code",
   "execution_count": 11,
   "id": "46ae32d2",
   "metadata": {},
   "outputs": [],
   "source": [
    "driver.get(url)"
   ]
  },
  {
   "cell_type": "code",
   "execution_count": 12,
   "id": "66d91efb",
   "metadata": {},
   "outputs": [],
   "source": [
    "job_titles=[]\n",
    "company_names=[]\n",
    "locations_list=[]\n",
    "experience_list=[]"
   ]
  },
  {
   "cell_type": "code",
   "execution_count": 13,
   "id": "604148bf",
   "metadata": {},
   "outputs": [
    {
     "data": {
      "text/plain": [
       "[<selenium.webdriver.remote.webelement.WebElement (session=\"bd705ed2363c7428c83c9cf33733be97\", element=\"36bb5965-02dc-4745-9577-44064b5bc87f\")>,\n",
       " <selenium.webdriver.remote.webelement.WebElement (session=\"bd705ed2363c7428c83c9cf33733be97\", element=\"78ea7601-71e7-46d8-95b4-3a47689da56f\")>,\n",
       " <selenium.webdriver.remote.webelement.WebElement (session=\"bd705ed2363c7428c83c9cf33733be97\", element=\"a49426e9-96bd-4e51-b3a6-8b4df955a1ac\")>,\n",
       " <selenium.webdriver.remote.webelement.WebElement (session=\"bd705ed2363c7428c83c9cf33733be97\", element=\"bc30675c-e259-4486-aa54-ad51924f48da\")>,\n",
       " <selenium.webdriver.remote.webelement.WebElement (session=\"bd705ed2363c7428c83c9cf33733be97\", element=\"804fa0e5-d108-4f2f-bdc0-7cb40a395b85\")>,\n",
       " <selenium.webdriver.remote.webelement.WebElement (session=\"bd705ed2363c7428c83c9cf33733be97\", element=\"5f55b1f9-2312-4dda-9cef-0a6fc1c571bf\")>,\n",
       " <selenium.webdriver.remote.webelement.WebElement (session=\"bd705ed2363c7428c83c9cf33733be97\", element=\"aa816699-af91-422b-8f34-933138e6c2d4\")>,\n",
       " <selenium.webdriver.remote.webelement.WebElement (session=\"bd705ed2363c7428c83c9cf33733be97\", element=\"3b95c806-7425-4299-af85-a680c984d647\")>,\n",
       " <selenium.webdriver.remote.webelement.WebElement (session=\"bd705ed2363c7428c83c9cf33733be97\", element=\"3e88890d-c5c6-449e-9316-3c817a93fd9c\")>]"
      ]
     },
     "execution_count": 13,
     "metadata": {},
     "output_type": "execute_result"
    }
   ],
   "source": [
    "titles_tags=driver.find_elements_by_xpath(\"//a[@class='title fw500 ellipsis']\")\n",
    "titles_tags[0:9]"
   ]
  },
  {
   "cell_type": "code",
   "execution_count": 14,
   "id": "be0418ee",
   "metadata": {},
   "outputs": [
    {
     "data": {
      "text/plain": [
       "['Lead Data Scientist',\n",
       " 'Senior Data Scientist',\n",
       " 'ASSOCIATE DATA SCIENTIST',\n",
       " 'Data Scientist: Advanced Analytics',\n",
       " 'Data Scientist',\n",
       " 'Data Scientist: Artificial Intelligence',\n",
       " 'Data Scientist',\n",
       " 'Data Scientist/Engineer - Global Telecom Setup',\n",
       " 'Analyst- Data Scientist']"
      ]
     },
     "execution_count": 14,
     "metadata": {},
     "output_type": "execute_result"
    }
   ],
   "source": [
    "for i in titles_tags:\n",
    "    title=i.text\n",
    "    job_titles.append(title)\n",
    "job_titles[0:9]"
   ]
  },
  {
   "cell_type": "code",
   "execution_count": 15,
   "id": "09877e72",
   "metadata": {},
   "outputs": [
    {
     "data": {
      "text/plain": [
       "[<selenium.webdriver.remote.webelement.WebElement (session=\"bd705ed2363c7428c83c9cf33733be97\", element=\"1cc0212a-983a-46a3-9b36-bfc2928dfe7e\")>,\n",
       " <selenium.webdriver.remote.webelement.WebElement (session=\"bd705ed2363c7428c83c9cf33733be97\", element=\"6b60673e-6b22-466b-b07d-be0bdba5e597\")>,\n",
       " <selenium.webdriver.remote.webelement.WebElement (session=\"bd705ed2363c7428c83c9cf33733be97\", element=\"26580f57-3ee9-4f77-9d4e-1f0153f4df9a\")>,\n",
       " <selenium.webdriver.remote.webelement.WebElement (session=\"bd705ed2363c7428c83c9cf33733be97\", element=\"fe689ff7-3a55-4fe1-892f-a4ba1e445141\")>,\n",
       " <selenium.webdriver.remote.webelement.WebElement (session=\"bd705ed2363c7428c83c9cf33733be97\", element=\"120cd36b-5048-48bf-bdab-3d1a0f0e7a58\")>,\n",
       " <selenium.webdriver.remote.webelement.WebElement (session=\"bd705ed2363c7428c83c9cf33733be97\", element=\"cd58e3d2-c3f5-4621-bf67-012de5d797f5\")>,\n",
       " <selenium.webdriver.remote.webelement.WebElement (session=\"bd705ed2363c7428c83c9cf33733be97\", element=\"f10eddd4-33c0-47d3-ba3c-55eace16b8fa\")>,\n",
       " <selenium.webdriver.remote.webelement.WebElement (session=\"bd705ed2363c7428c83c9cf33733be97\", element=\"b6d238a9-0648-4907-a872-ef0ce68e96c8\")>,\n",
       " <selenium.webdriver.remote.webelement.WebElement (session=\"bd705ed2363c7428c83c9cf33733be97\", element=\"ec898d29-f883-4a2b-bd15-7f7782cd8573\")>]"
      ]
     },
     "execution_count": 15,
     "metadata": {},
     "output_type": "execute_result"
    }
   ],
   "source": [
    "companies_tags=driver.find_elements_by_xpath(\"//a[@class='subTitle ellipsis fleft']\")\n",
    "companies_tags[0:9]"
   ]
  },
  {
   "cell_type": "code",
   "execution_count": 16,
   "id": "a6ae882b",
   "metadata": {},
   "outputs": [
    {
     "data": {
      "text/plain": [
       "'IBM'"
      ]
     },
     "execution_count": 16,
     "metadata": {},
     "output_type": "execute_result"
    }
   ],
   "source": [
    "for i in companies_tags:\n",
    "    company_name=i.text\n",
    "    company_names.append(company_name)\n",
    "company_name[0:9]"
   ]
  },
  {
   "cell_type": "code",
   "execution_count": 19,
   "id": "bbc7c577",
   "metadata": {},
   "outputs": [
    {
     "data": {
      "text/plain": [
       "[<selenium.webdriver.remote.webelement.WebElement (session=\"bd705ed2363c7428c83c9cf33733be97\", element=\"378b21e4-52cb-4f7a-947e-f4e6eaaa2deb\")>,\n",
       " <selenium.webdriver.remote.webelement.WebElement (session=\"bd705ed2363c7428c83c9cf33733be97\", element=\"54ef3a24-c922-4776-8330-6239a530416c\")>,\n",
       " <selenium.webdriver.remote.webelement.WebElement (session=\"bd705ed2363c7428c83c9cf33733be97\", element=\"497bd2b9-556a-4552-b31c-bd47afa41199\")>,\n",
       " <selenium.webdriver.remote.webelement.WebElement (session=\"bd705ed2363c7428c83c9cf33733be97\", element=\"aab1a2e1-effc-4e74-89d1-8bf9d427be45\")>,\n",
       " <selenium.webdriver.remote.webelement.WebElement (session=\"bd705ed2363c7428c83c9cf33733be97\", element=\"c7ae7951-2ea0-499c-ba49-b810f22a3465\")>,\n",
       " <selenium.webdriver.remote.webelement.WebElement (session=\"bd705ed2363c7428c83c9cf33733be97\", element=\"ed49e032-a070-4703-a0ae-d35f0903ad54\")>,\n",
       " <selenium.webdriver.remote.webelement.WebElement (session=\"bd705ed2363c7428c83c9cf33733be97\", element=\"c2167fef-2951-4c92-892a-3cb447c4c83d\")>,\n",
       " <selenium.webdriver.remote.webelement.WebElement (session=\"bd705ed2363c7428c83c9cf33733be97\", element=\"ad7c3eb1-da24-4efc-93cb-519914a072df\")>,\n",
       " <selenium.webdriver.remote.webelement.WebElement (session=\"bd705ed2363c7428c83c9cf33733be97\", element=\"9432df73-d404-4d45-83c9-9a21caf9ae5c\")>]"
      ]
     },
     "execution_count": 19,
     "metadata": {},
     "output_type": "execute_result"
    }
   ],
   "source": [
    "experience_tags=driver.find_elements_by_xpath(\"//li[@class='fleft grey-text br2 placeHolderLi experience']/span[1]\")\n",
    "experience_tags[0:9]"
   ]
  },
  {
   "cell_type": "code",
   "execution_count": 20,
   "id": "e57eebca",
   "metadata": {},
   "outputs": [
    {
     "data": {
      "text/plain": [
       "['5-8 Yrs',\n",
       " '3-7 Yrs',\n",
       " '1-4 Yrs',\n",
       " '2-5 Yrs',\n",
       " '2-4 Yrs',\n",
       " '3-7 Yrs',\n",
       " '0-3 Yrs',\n",
       " '3-8 Yrs',\n",
       " '1-4 Yrs']"
      ]
     },
     "execution_count": 20,
     "metadata": {},
     "output_type": "execute_result"
    }
   ],
   "source": [
    "for i in experience_tags:\n",
    "    experience=i.text\n",
    "    experience_list.append(experience)\n",
    "experience_list[0:9] "
   ]
  },
  {
   "cell_type": "code",
   "execution_count": 21,
   "id": "3e580902",
   "metadata": {},
   "outputs": [
    {
     "data": {
      "text/plain": [
       "[<selenium.webdriver.remote.webelement.WebElement (session=\"bd705ed2363c7428c83c9cf33733be97\", element=\"2a3d9d0e-7a65-4ace-bb59-ddee5ef0e8ab\")>,\n",
       " <selenium.webdriver.remote.webelement.WebElement (session=\"bd705ed2363c7428c83c9cf33733be97\", element=\"0f5acba7-5219-42e2-a7ca-3b39e270e349\")>,\n",
       " <selenium.webdriver.remote.webelement.WebElement (session=\"bd705ed2363c7428c83c9cf33733be97\", element=\"962d0d55-2051-4703-996b-dfeabcedafd4\")>,\n",
       " <selenium.webdriver.remote.webelement.WebElement (session=\"bd705ed2363c7428c83c9cf33733be97\", element=\"6bad94e5-e741-4666-a4e8-530caa615ad1\")>,\n",
       " <selenium.webdriver.remote.webelement.WebElement (session=\"bd705ed2363c7428c83c9cf33733be97\", element=\"2025419b-100e-4f84-914c-e45582506d4e\")>,\n",
       " <selenium.webdriver.remote.webelement.WebElement (session=\"bd705ed2363c7428c83c9cf33733be97\", element=\"47487a69-2a2c-45ee-aee2-b7fe88ad948a\")>,\n",
       " <selenium.webdriver.remote.webelement.WebElement (session=\"bd705ed2363c7428c83c9cf33733be97\", element=\"9a270004-1974-4fe5-81ba-7c73b615a020\")>,\n",
       " <selenium.webdriver.remote.webelement.WebElement (session=\"bd705ed2363c7428c83c9cf33733be97\", element=\"95a72cb0-f59b-49a0-879a-680d8cb88a46\")>,\n",
       " <selenium.webdriver.remote.webelement.WebElement (session=\"bd705ed2363c7428c83c9cf33733be97\", element=\"d607a819-bf79-48ce-a934-3e7852022075\")>]"
      ]
     },
     "execution_count": 21,
     "metadata": {},
     "output_type": "execute_result"
    }
   ],
   "source": [
    "locations_tags=driver.find_elements_by_xpath(\"//li[@class='fleft grey-text br2 placeHolderLi location']/span[1]\")\n",
    "locations_tags[0:9]"
   ]
  },
  {
   "cell_type": "code",
   "execution_count": 22,
   "id": "1096ebfe",
   "metadata": {},
   "outputs": [
    {
     "data": {
      "text/plain": [
       "['Bangalore/Bengaluru',\n",
       " 'Bangalore/Bengaluru',\n",
       " 'Bangalore/Bengaluru',\n",
       " 'Bangalore/Bengaluru',\n",
       " 'Bangalore/Bengaluru',\n",
       " 'Bangalore/Bengaluru',\n",
       " 'Bangalore/Bengaluru',\n",
       " 'Hyderabad/Secunderabad, Pune, Bangalore/Bengaluru',\n",
       " 'Bangalore/Bengaluru']"
      ]
     },
     "execution_count": 22,
     "metadata": {},
     "output_type": "execute_result"
    }
   ],
   "source": [
    "for i in locations_tags:\n",
    "    location=i.text\n",
    "    locations_list.append(location)\n",
    "locations_list[0:9]"
   ]
  },
  {
   "cell_type": "code",
   "execution_count": 23,
   "id": "ca22d63c",
   "metadata": {},
   "outputs": [
    {
     "name": "stdout",
     "output_type": "stream",
     "text": [
      "20 20 20 20\n"
     ]
    }
   ],
   "source": [
    "print(len(job_titles),len(company_names),len(experience_list),len(locations_list))"
   ]
  },
  {
   "cell_type": "code",
   "execution_count": 24,
   "id": "6797c5d4",
   "metadata": {},
   "outputs": [],
   "source": [
    "jobs=pd.DataFrame({})\n",
    "jobs['title']=job_titles\n",
    "jobs['company']=company_names\n",
    "jobs['experience_required']=experience_list\n",
    "jobs['location']=locations_list"
   ]
  },
  {
   "cell_type": "code",
   "execution_count": 25,
   "id": "6516d525",
   "metadata": {},
   "outputs": [
    {
     "data": {
      "text/html": [
       "<div>\n",
       "<style scoped>\n",
       "    .dataframe tbody tr th:only-of-type {\n",
       "        vertical-align: middle;\n",
       "    }\n",
       "\n",
       "    .dataframe tbody tr th {\n",
       "        vertical-align: top;\n",
       "    }\n",
       "\n",
       "    .dataframe thead th {\n",
       "        text-align: right;\n",
       "    }\n",
       "</style>\n",
       "<table border=\"1\" class=\"dataframe\">\n",
       "  <thead>\n",
       "    <tr style=\"text-align: right;\">\n",
       "      <th></th>\n",
       "      <th>title</th>\n",
       "      <th>company</th>\n",
       "      <th>experience_required</th>\n",
       "      <th>location</th>\n",
       "    </tr>\n",
       "  </thead>\n",
       "  <tbody>\n",
       "    <tr>\n",
       "      <th>0</th>\n",
       "      <td>Lead Data Scientist</td>\n",
       "      <td>Groww</td>\n",
       "      <td>5-8 Yrs</td>\n",
       "      <td>Bangalore/Bengaluru</td>\n",
       "    </tr>\n",
       "    <tr>\n",
       "      <th>1</th>\n",
       "      <td>Senior Data Scientist</td>\n",
       "      <td>PayU</td>\n",
       "      <td>3-7 Yrs</td>\n",
       "      <td>Bangalore/Bengaluru</td>\n",
       "    </tr>\n",
       "    <tr>\n",
       "      <th>2</th>\n",
       "      <td>ASSOCIATE DATA SCIENTIST</td>\n",
       "      <td>Hinduja Global</td>\n",
       "      <td>1-4 Yrs</td>\n",
       "      <td>Bangalore/Bengaluru</td>\n",
       "    </tr>\n",
       "    <tr>\n",
       "      <th>3</th>\n",
       "      <td>Data Scientist: Advanced Analytics</td>\n",
       "      <td>IBM</td>\n",
       "      <td>2-5 Yrs</td>\n",
       "      <td>Bangalore/Bengaluru</td>\n",
       "    </tr>\n",
       "    <tr>\n",
       "      <th>4</th>\n",
       "      <td>Data Scientist</td>\n",
       "      <td>Applied Materials</td>\n",
       "      <td>2-4 Yrs</td>\n",
       "      <td>Bangalore/Bengaluru</td>\n",
       "    </tr>\n",
       "    <tr>\n",
       "      <th>5</th>\n",
       "      <td>Data Scientist: Artificial Intelligence</td>\n",
       "      <td>IBM</td>\n",
       "      <td>3-7 Yrs</td>\n",
       "      <td>Bangalore/Bengaluru</td>\n",
       "    </tr>\n",
       "    <tr>\n",
       "      <th>6</th>\n",
       "      <td>Data Scientist</td>\n",
       "      <td>Applied Materials</td>\n",
       "      <td>0-3 Yrs</td>\n",
       "      <td>Bangalore/Bengaluru</td>\n",
       "    </tr>\n",
       "    <tr>\n",
       "      <th>7</th>\n",
       "      <td>Data Scientist/Engineer - Global Telecom Setup</td>\n",
       "      <td>Global Telecom Setup</td>\n",
       "      <td>3-8 Yrs</td>\n",
       "      <td>Hyderabad/Secunderabad, Pune, Bangalore/Bengaluru</td>\n",
       "    </tr>\n",
       "    <tr>\n",
       "      <th>8</th>\n",
       "      <td>Analyst- Data Scientist</td>\n",
       "      <td>Sigma Aldrich</td>\n",
       "      <td>1-4 Yrs</td>\n",
       "      <td>Bangalore/Bengaluru</td>\n",
       "    </tr>\n",
       "    <tr>\n",
       "      <th>9</th>\n",
       "      <td>Data Scientist</td>\n",
       "      <td>PayU</td>\n",
       "      <td>2-6 Yrs</td>\n",
       "      <td>Bangalore/Bengaluru</td>\n",
       "    </tr>\n",
       "    <tr>\n",
       "      <th>10</th>\n",
       "      <td>Data Scientist</td>\n",
       "      <td>PayU</td>\n",
       "      <td>3-6 Yrs</td>\n",
       "      <td>Bangalore/Bengaluru</td>\n",
       "    </tr>\n",
       "    <tr>\n",
       "      <th>11</th>\n",
       "      <td>Data Scientist</td>\n",
       "      <td>PayU</td>\n",
       "      <td>2-6 Yrs</td>\n",
       "      <td>Bangalore/Bengaluru</td>\n",
       "    </tr>\n",
       "    <tr>\n",
       "      <th>12</th>\n",
       "      <td>Data Scientist - Immediate Joiners</td>\n",
       "      <td>Bristlecone</td>\n",
       "      <td>5-8 Yrs</td>\n",
       "      <td>Noida, Mumbai, Pune, Bangalore/Bengaluru</td>\n",
       "    </tr>\n",
       "    <tr>\n",
       "      <th>13</th>\n",
       "      <td>Data Scientist</td>\n",
       "      <td>PayU</td>\n",
       "      <td>2-5 Yrs</td>\n",
       "      <td>Bangalore/Bengaluru</td>\n",
       "    </tr>\n",
       "    <tr>\n",
       "      <th>14</th>\n",
       "      <td>Senior Data Scientist - SQL/Python/Numpy</td>\n",
       "      <td>Serving Skill</td>\n",
       "      <td>2-6 Yrs</td>\n",
       "      <td>Bangalore/Bengaluru</td>\n",
       "    </tr>\n",
       "    <tr>\n",
       "      <th>15</th>\n",
       "      <td>Senior Data Scientist (Fintech)</td>\n",
       "      <td>TalentStack</td>\n",
       "      <td>9-12 Yrs</td>\n",
       "      <td>Bangalore/Bengaluru</td>\n",
       "    </tr>\n",
       "    <tr>\n",
       "      <th>16</th>\n",
       "      <td>Senior Data Scientist</td>\n",
       "      <td>GSK India</td>\n",
       "      <td>5-9 Yrs</td>\n",
       "      <td>Bangalore/Bengaluru</td>\n",
       "    </tr>\n",
       "    <tr>\n",
       "      <th>17</th>\n",
       "      <td>Data Scientist</td>\n",
       "      <td>Cervello India Private Limited</td>\n",
       "      <td>3-8 Yrs</td>\n",
       "      <td>Bangalore/Bengaluru</td>\n",
       "    </tr>\n",
       "    <tr>\n",
       "      <th>18</th>\n",
       "      <td>Principal Data Scientist</td>\n",
       "      <td>Target</td>\n",
       "      <td>10-20 Yrs</td>\n",
       "      <td>Bangalore/Bengaluru</td>\n",
       "    </tr>\n",
       "    <tr>\n",
       "      <th>19</th>\n",
       "      <td>Data Scientist: Artificial Intelligence</td>\n",
       "      <td>IBM</td>\n",
       "      <td>4-8 Yrs</td>\n",
       "      <td>Bangalore/Bengaluru</td>\n",
       "    </tr>\n",
       "  </tbody>\n",
       "</table>\n",
       "</div>"
      ],
      "text/plain": [
       "                                             title  \\\n",
       "0                              Lead Data Scientist   \n",
       "1                            Senior Data Scientist   \n",
       "2                         ASSOCIATE DATA SCIENTIST   \n",
       "3               Data Scientist: Advanced Analytics   \n",
       "4                                   Data Scientist   \n",
       "5          Data Scientist: Artificial Intelligence   \n",
       "6                                   Data Scientist   \n",
       "7   Data Scientist/Engineer - Global Telecom Setup   \n",
       "8                          Analyst- Data Scientist   \n",
       "9                                   Data Scientist   \n",
       "10                                  Data Scientist   \n",
       "11                                  Data Scientist   \n",
       "12              Data Scientist - Immediate Joiners   \n",
       "13                                  Data Scientist   \n",
       "14        Senior Data Scientist - SQL/Python/Numpy   \n",
       "15                 Senior Data Scientist (Fintech)   \n",
       "16                           Senior Data Scientist   \n",
       "17                                  Data Scientist   \n",
       "18                        Principal Data Scientist   \n",
       "19         Data Scientist: Artificial Intelligence   \n",
       "\n",
       "                           company experience_required  \\\n",
       "0                            Groww             5-8 Yrs   \n",
       "1                             PayU             3-7 Yrs   \n",
       "2                   Hinduja Global             1-4 Yrs   \n",
       "3                              IBM             2-5 Yrs   \n",
       "4                Applied Materials             2-4 Yrs   \n",
       "5                              IBM             3-7 Yrs   \n",
       "6                Applied Materials             0-3 Yrs   \n",
       "7             Global Telecom Setup             3-8 Yrs   \n",
       "8                    Sigma Aldrich             1-4 Yrs   \n",
       "9                             PayU             2-6 Yrs   \n",
       "10                            PayU             3-6 Yrs   \n",
       "11                            PayU             2-6 Yrs   \n",
       "12                     Bristlecone             5-8 Yrs   \n",
       "13                            PayU             2-5 Yrs   \n",
       "14                   Serving Skill             2-6 Yrs   \n",
       "15                     TalentStack            9-12 Yrs   \n",
       "16                       GSK India             5-9 Yrs   \n",
       "17  Cervello India Private Limited             3-8 Yrs   \n",
       "18                          Target           10-20 Yrs   \n",
       "19                             IBM             4-8 Yrs   \n",
       "\n",
       "                                             location  \n",
       "0                                 Bangalore/Bengaluru  \n",
       "1                                 Bangalore/Bengaluru  \n",
       "2                                 Bangalore/Bengaluru  \n",
       "3                                 Bangalore/Bengaluru  \n",
       "4                                 Bangalore/Bengaluru  \n",
       "5                                 Bangalore/Bengaluru  \n",
       "6                                 Bangalore/Bengaluru  \n",
       "7   Hyderabad/Secunderabad, Pune, Bangalore/Bengaluru  \n",
       "8                                 Bangalore/Bengaluru  \n",
       "9                                 Bangalore/Bengaluru  \n",
       "10                                Bangalore/Bengaluru  \n",
       "11                                Bangalore/Bengaluru  \n",
       "12           Noida, Mumbai, Pune, Bangalore/Bengaluru  \n",
       "13                                Bangalore/Bengaluru  \n",
       "14                                Bangalore/Bengaluru  \n",
       "15                                Bangalore/Bengaluru  \n",
       "16                                Bangalore/Bengaluru  \n",
       "17                                Bangalore/Bengaluru  \n",
       "18                                Bangalore/Bengaluru  \n",
       "19                                Bangalore/Bengaluru  "
      ]
     },
     "execution_count": 25,
     "metadata": {},
     "output_type": "execute_result"
    }
   ],
   "source": [
    "jobs"
   ]
  },
  {
   "cell_type": "code",
   "execution_count": null,
   "id": "7a12984e",
   "metadata": {},
   "outputs": [],
   "source": []
  }
 ],
 "metadata": {
  "kernelspec": {
   "display_name": "Python 3",
   "language": "python",
   "name": "python3"
  },
  "language_info": {
   "codemirror_mode": {
    "name": "ipython",
    "version": 3
   },
   "file_extension": ".py",
   "mimetype": "text/x-python",
   "name": "python",
   "nbconvert_exporter": "python",
   "pygments_lexer": "ipython3",
   "version": "3.8.8"
  }
 },
 "nbformat": 4,
 "nbformat_minor": 5
}
