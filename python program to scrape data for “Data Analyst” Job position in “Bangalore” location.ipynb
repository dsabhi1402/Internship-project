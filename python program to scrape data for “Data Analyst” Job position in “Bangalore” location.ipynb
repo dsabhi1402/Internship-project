{
 "cells": [
  {
   "cell_type": "code",
   "execution_count": 1,
   "id": "b37ece59",
   "metadata": {},
   "outputs": [
    {
     "name": "stdout",
     "output_type": "stream",
     "text": [
      "Requirement already satisfied: selenium in c:\\users\\hp\\anaconda3\\lib\\site-packages (4.1.3)\n",
      "Requirement already satisfied: trio-websocket~=0.9 in c:\\users\\hp\\anaconda3\\lib\\site-packages (from selenium) (0.9.2)\n",
      "Requirement already satisfied: trio~=0.17 in c:\\users\\hp\\anaconda3\\lib\\site-packages (from selenium) (0.20.0)\n",
      "Requirement already satisfied: urllib3[secure,socks]~=1.26 in c:\\users\\hp\\anaconda3\\lib\\site-packages (from selenium) (1.26.4)\n",
      "Requirement already satisfied: async-generator>=1.9 in c:\\users\\hp\\anaconda3\\lib\\site-packages (from trio~=0.17->selenium) (1.10)\n",
      "Requirement already satisfied: cffi>=1.14 in c:\\users\\hp\\anaconda3\\lib\\site-packages (from trio~=0.17->selenium) (1.14.5)\n",
      "Requirement already satisfied: attrs>=19.2.0 in c:\\users\\hp\\anaconda3\\lib\\site-packages (from trio~=0.17->selenium) (20.3.0)\n",
      "Requirement already satisfied: sortedcontainers in c:\\users\\hp\\anaconda3\\lib\\site-packages (from trio~=0.17->selenium) (2.3.0)\n",
      "Requirement already satisfied: outcome in c:\\users\\hp\\anaconda3\\lib\\site-packages (from trio~=0.17->selenium) (1.1.0)\n",
      "Requirement already satisfied: idna in c:\\users\\hp\\anaconda3\\lib\\site-packages (from trio~=0.17->selenium) (2.10)\n",
      "Requirement already satisfied: sniffio in c:\\users\\hp\\anaconda3\\lib\\site-packages (from trio~=0.17->selenium) (1.2.0)\n",
      "Requirement already satisfied: pycparser in c:\\users\\hp\\anaconda3\\lib\\site-packages (from cffi>=1.14->trio~=0.17->selenium) (2.20)\n",
      "Requirement already satisfied: wsproto>=0.14 in c:\\users\\hp\\anaconda3\\lib\\site-packages (from trio-websocket~=0.9->selenium) (1.1.0)\n",
      "Requirement already satisfied: cryptography>=1.3.4 in c:\\users\\hp\\anaconda3\\lib\\site-packages (from urllib3[secure,socks]~=1.26->selenium) (3.4.7)\n",
      "Requirement already satisfied: pyOpenSSL>=0.14 in c:\\users\\hp\\anaconda3\\lib\\site-packages (from urllib3[secure,socks]~=1.26->selenium) (20.0.1)\n",
      "Requirement already satisfied: certifi in c:\\users\\hp\\anaconda3\\lib\\site-packages (from urllib3[secure,socks]~=1.26->selenium) (2020.12.5)\n",
      "Requirement already satisfied: PySocks!=1.5.7,<2.0,>=1.5.6 in c:\\users\\hp\\anaconda3\\lib\\site-packages (from urllib3[secure,socks]~=1.26->selenium) (1.7.1)\n",
      "Requirement already satisfied: six>=1.5.2 in c:\\users\\hp\\anaconda3\\lib\\site-packages (from pyOpenSSL>=0.14->urllib3[secure,socks]~=1.26->selenium) (1.15.0)\n",
      "Requirement already satisfied: h11<1,>=0.9.0 in c:\\users\\hp\\anaconda3\\lib\\site-packages (from wsproto>=0.14->trio-websocket~=0.9->selenium) (0.13.0)\n"
     ]
    }
   ],
   "source": [
    "!pip install selenium"
   ]
  },
  {
   "cell_type": "code",
   "execution_count": 2,
   "id": "e43a45c4",
   "metadata": {},
   "outputs": [],
   "source": [
    "import selenium\n",
    "import pandas as pd\n",
    "from selenium import webdriver\n",
    "import warnings\n",
    "warnings.filterwarnings(\"ignore\")\n",
    "import time"
   ]
  },
  {
   "cell_type": "code",
   "execution_count": 5,
   "id": "64b417e9",
   "metadata": {},
   "outputs": [],
   "source": [
    "driver=webdriver.Chrome(r\"C:\\Users\\HP\\Downloads\\chromedriver_win32\\chromedriver.exe\")"
   ]
  },
  {
   "cell_type": "code",
   "execution_count": 6,
   "id": "64e9986c",
   "metadata": {},
   "outputs": [],
   "source": [
    "driver=webdriver.Chrome(\"chromedriver.exe\")\n",
    "time.sleep(2)"
   ]
  },
  {
   "cell_type": "code",
   "execution_count": null,
   "id": "b5e2694f",
   "metadata": {},
   "outputs": [],
   "source": [
    "driver.close()"
   ]
  },
  {
   "cell_type": "code",
   "execution_count": 7,
   "id": "c0bb039e",
   "metadata": {},
   "outputs": [],
   "source": [
    "driver.get('https://www.naukri.com/')"
   ]
  },
  {
   "cell_type": "code",
   "execution_count": null,
   "id": "cd134128",
   "metadata": {},
   "outputs": [],
   "source": [
    "search_field_designation=driver.find_element_by_class_name(\"suggestor-input\")\n",
    "search_field_designation.send_keys(\"Data Analyst\")\n",
    "search_field_location=driver.find_element_by_xpath('/html/body/div/div[2]/div[3]/div/div/div[3]/div/div/div/input')\n",
    "search_field_location.send_keys(\"Bangalore\")"
   ]
  },
  {
   "cell_type": "code",
   "execution_count": 10,
   "id": "c35118c7",
   "metadata": {},
   "outputs": [],
   "source": [
    "search_button=driver.find_element_by_xpath(\"/html/body/div/div[2]/div[3]/div/div/div[5]/div/input\")\n",
    "search_button.click()"
   ]
  },
  {
   "cell_type": "code",
   "execution_count": 11,
   "id": "3a611b31",
   "metadata": {},
   "outputs": [],
   "source": [
    "url=\"https://www.naukri.com/data-analyst-jobs-in-bangalore-bengaluru?k=data%20analyst&l=bangalore%2Fbengaluru\""
   ]
  },
  {
   "cell_type": "code",
   "execution_count": 12,
   "id": "804444f4",
   "metadata": {},
   "outputs": [],
   "source": [
    "driver.get(url)"
   ]
  },
  {
   "cell_type": "code",
   "execution_count": 13,
   "id": "f791d175",
   "metadata": {},
   "outputs": [],
   "source": [
    "job_titles=[]\n",
    "company_names=[]\n",
    "locations_list=[]\n",
    "experience_list=[]"
   ]
  },
  {
   "cell_type": "code",
   "execution_count": 14,
   "id": "dc2d89a4",
   "metadata": {},
   "outputs": [
    {
     "data": {
      "text/plain": [
       "[<selenium.webdriver.remote.webelement.WebElement (session=\"5677b7d4f164196b3372fba4f93fca2f\", element=\"df4e5dcc-29c4-4387-9d18-0defba0551b6\")>,\n",
       " <selenium.webdriver.remote.webelement.WebElement (session=\"5677b7d4f164196b3372fba4f93fca2f\", element=\"c9381520-2a81-4f43-8e44-d802b20d0504\")>,\n",
       " <selenium.webdriver.remote.webelement.WebElement (session=\"5677b7d4f164196b3372fba4f93fca2f\", element=\"655e463c-cf76-4b74-bf17-59588eb125fe\")>,\n",
       " <selenium.webdriver.remote.webelement.WebElement (session=\"5677b7d4f164196b3372fba4f93fca2f\", element=\"ecf225b3-c7a6-4ab6-b998-758f6bee2230\")>,\n",
       " <selenium.webdriver.remote.webelement.WebElement (session=\"5677b7d4f164196b3372fba4f93fca2f\", element=\"2cf8cf23-fcb9-4c31-bbd5-b10d1718bda2\")>,\n",
       " <selenium.webdriver.remote.webelement.WebElement (session=\"5677b7d4f164196b3372fba4f93fca2f\", element=\"ed70055a-ec2f-47ac-98e0-8681869e1b1f\")>,\n",
       " <selenium.webdriver.remote.webelement.WebElement (session=\"5677b7d4f164196b3372fba4f93fca2f\", element=\"1e905b86-dc6c-4ae3-ab5d-357189cb6c65\")>,\n",
       " <selenium.webdriver.remote.webelement.WebElement (session=\"5677b7d4f164196b3372fba4f93fca2f\", element=\"10a338f1-8db5-43e0-ace2-4ae7c7213829\")>,\n",
       " <selenium.webdriver.remote.webelement.WebElement (session=\"5677b7d4f164196b3372fba4f93fca2f\", element=\"9e0950b0-24e4-4a11-8410-643c386a4c96\")>]"
      ]
     },
     "execution_count": 14,
     "metadata": {},
     "output_type": "execute_result"
    }
   ],
   "source": [
    "titles_tags=driver.find_elements_by_xpath(\"//a[@class='title fw500 ellipsis']\")\n",
    "titles_tags[0:9]"
   ]
  },
  {
   "cell_type": "code",
   "execution_count": 15,
   "id": "b8fb5149",
   "metadata": {},
   "outputs": [
    {
     "data": {
      "text/plain": [
       "['Data Analyst II',\n",
       " 'Senior Data Analyst II',\n",
       " 'Senior Data Analyst II',\n",
       " 'Senior Data Analyst - Logistics',\n",
       " 'Data Analysts with Business Analysis',\n",
       " 'Senior Data Analyst',\n",
       " 'Sr Domain Expert -Data Analysts',\n",
       " 'Consultant - Data Analyst',\n",
       " 'Data Analyst']"
      ]
     },
     "execution_count": 15,
     "metadata": {},
     "output_type": "execute_result"
    }
   ],
   "source": [
    "for i in titles_tags:\n",
    "    title=i.text\n",
    "    job_titles.append(title)\n",
    "job_titles[0:9]"
   ]
  },
  {
   "cell_type": "code",
   "execution_count": 16,
   "id": "8c8a3c8e",
   "metadata": {},
   "outputs": [
    {
     "data": {
      "text/plain": [
       "[<selenium.webdriver.remote.webelement.WebElement (session=\"5677b7d4f164196b3372fba4f93fca2f\", element=\"6da9dd1a-b3a3-40bc-83c3-112e7d8ea17b\")>,\n",
       " <selenium.webdriver.remote.webelement.WebElement (session=\"5677b7d4f164196b3372fba4f93fca2f\", element=\"e4753fc8-7eb3-4ced-958e-d6e91a9b1b8c\")>,\n",
       " <selenium.webdriver.remote.webelement.WebElement (session=\"5677b7d4f164196b3372fba4f93fca2f\", element=\"201d97ab-cb48-46b7-b882-d17aaf7551b6\")>,\n",
       " <selenium.webdriver.remote.webelement.WebElement (session=\"5677b7d4f164196b3372fba4f93fca2f\", element=\"1fef86a7-d03c-4e08-a37e-209891ec0129\")>,\n",
       " <selenium.webdriver.remote.webelement.WebElement (session=\"5677b7d4f164196b3372fba4f93fca2f\", element=\"ce500dc1-227c-4534-a680-ee44ba295568\")>,\n",
       " <selenium.webdriver.remote.webelement.WebElement (session=\"5677b7d4f164196b3372fba4f93fca2f\", element=\"d45c56c9-689a-407f-82d5-105e2e5dd8ef\")>,\n",
       " <selenium.webdriver.remote.webelement.WebElement (session=\"5677b7d4f164196b3372fba4f93fca2f\", element=\"f516c56c-944d-45e0-abf1-9b0533ebbb77\")>,\n",
       " <selenium.webdriver.remote.webelement.WebElement (session=\"5677b7d4f164196b3372fba4f93fca2f\", element=\"5e069d50-99aa-404a-a143-10f2cceb20f3\")>,\n",
       " <selenium.webdriver.remote.webelement.WebElement (session=\"5677b7d4f164196b3372fba4f93fca2f\", element=\"2f9b070d-6827-4994-b4a2-aafa98dce677\")>]"
      ]
     },
     "execution_count": 16,
     "metadata": {},
     "output_type": "execute_result"
    }
   ],
   "source": [
    "companies_tags=driver.find_elements_by_xpath(\"//a[@class='subTitle ellipsis fleft']\")\n",
    "companies_tags[0:9]"
   ]
  },
  {
   "cell_type": "code",
   "execution_count": 17,
   "id": "6cb40fe3",
   "metadata": {},
   "outputs": [
    {
     "data": {
      "text/plain": [
       "'Huquo Con'"
      ]
     },
     "execution_count": 17,
     "metadata": {},
     "output_type": "execute_result"
    }
   ],
   "source": [
    "for i in companies_tags:\n",
    "    company_name=i.text\n",
    "    company_names.append(company_name)\n",
    "company_name[0:9]"
   ]
  },
  {
   "cell_type": "code",
   "execution_count": 18,
   "id": "f77b8e36",
   "metadata": {},
   "outputs": [
    {
     "data": {
      "text/plain": [
       "[<selenium.webdriver.remote.webelement.WebElement (session=\"5677b7d4f164196b3372fba4f93fca2f\", element=\"506acc9f-c1ca-48f9-b99a-005ec2cf14c0\")>,\n",
       " <selenium.webdriver.remote.webelement.WebElement (session=\"5677b7d4f164196b3372fba4f93fca2f\", element=\"390bd445-660b-4cc9-90e8-02fef84d0847\")>,\n",
       " <selenium.webdriver.remote.webelement.WebElement (session=\"5677b7d4f164196b3372fba4f93fca2f\", element=\"a3eed733-a6e2-4b90-a058-ac7f21747967\")>,\n",
       " <selenium.webdriver.remote.webelement.WebElement (session=\"5677b7d4f164196b3372fba4f93fca2f\", element=\"1f904c12-a813-4655-8096-bfebc5422b85\")>,\n",
       " <selenium.webdriver.remote.webelement.WebElement (session=\"5677b7d4f164196b3372fba4f93fca2f\", element=\"ae9060c9-b668-4b28-99e2-aa57494e3db5\")>,\n",
       " <selenium.webdriver.remote.webelement.WebElement (session=\"5677b7d4f164196b3372fba4f93fca2f\", element=\"fa70aa48-4575-42ea-8f91-ba2c3a1c7517\")>,\n",
       " <selenium.webdriver.remote.webelement.WebElement (session=\"5677b7d4f164196b3372fba4f93fca2f\", element=\"6400eb66-9d58-4f1e-808d-9c4a11f01ea6\")>,\n",
       " <selenium.webdriver.remote.webelement.WebElement (session=\"5677b7d4f164196b3372fba4f93fca2f\", element=\"0e283eef-6f67-46ce-97ff-56da44f86caa\")>,\n",
       " <selenium.webdriver.remote.webelement.WebElement (session=\"5677b7d4f164196b3372fba4f93fca2f\", element=\"3e40201d-309c-49a2-838e-6b9b78eed994\")>]"
      ]
     },
     "execution_count": 18,
     "metadata": {},
     "output_type": "execute_result"
    }
   ],
   "source": [
    "experience_tags=driver.find_elements_by_xpath(\"//li[@class='fleft grey-text br2 placeHolderLi experience']/span[1]\")\n",
    "experience_tags[0:9]"
   ]
  },
  {
   "cell_type": "code",
   "execution_count": 19,
   "id": "486f5dcb",
   "metadata": {},
   "outputs": [
    {
     "data": {
      "text/plain": [
       "['6-10 Yrs',\n",
       " '2-4 Yrs',\n",
       " '3-6 Yrs',\n",
       " '4-10 Yrs',\n",
       " '6-8 Yrs',\n",
       " '4-6 Yrs',\n",
       " '0-10 Yrs',\n",
       " '1-3 Yrs',\n",
       " '1-3 Yrs']"
      ]
     },
     "execution_count": 19,
     "metadata": {},
     "output_type": "execute_result"
    }
   ],
   "source": [
    "for i in experience_tags:\n",
    "    experience=i.text\n",
    "    experience_list.append(experience)\n",
    "experience_list[0:9]  "
   ]
  },
  {
   "cell_type": "code",
   "execution_count": 20,
   "id": "79cfe236",
   "metadata": {},
   "outputs": [
    {
     "data": {
      "text/plain": [
       "[<selenium.webdriver.remote.webelement.WebElement (session=\"5677b7d4f164196b3372fba4f93fca2f\", element=\"1193ef1b-d44c-4df0-8996-28de87d65cd5\")>,\n",
       " <selenium.webdriver.remote.webelement.WebElement (session=\"5677b7d4f164196b3372fba4f93fca2f\", element=\"8758f0fb-fb54-43e4-be83-8685674f1c0c\")>,\n",
       " <selenium.webdriver.remote.webelement.WebElement (session=\"5677b7d4f164196b3372fba4f93fca2f\", element=\"dfecfa56-f4aa-4487-a217-184f5a104518\")>,\n",
       " <selenium.webdriver.remote.webelement.WebElement (session=\"5677b7d4f164196b3372fba4f93fca2f\", element=\"be9d7c27-55c7-497a-bb7c-b80aef8c01c0\")>,\n",
       " <selenium.webdriver.remote.webelement.WebElement (session=\"5677b7d4f164196b3372fba4f93fca2f\", element=\"327be17a-a8fd-4d7f-8769-bab8d4ab9d2f\")>,\n",
       " <selenium.webdriver.remote.webelement.WebElement (session=\"5677b7d4f164196b3372fba4f93fca2f\", element=\"937f1b72-4d09-47e4-aff6-2c22abb6ac4a\")>,\n",
       " <selenium.webdriver.remote.webelement.WebElement (session=\"5677b7d4f164196b3372fba4f93fca2f\", element=\"707a673e-3024-44d4-8b94-3caa68c5199d\")>,\n",
       " <selenium.webdriver.remote.webelement.WebElement (session=\"5677b7d4f164196b3372fba4f93fca2f\", element=\"0afeb46d-c355-485e-a7cc-2c407a140d5f\")>,\n",
       " <selenium.webdriver.remote.webelement.WebElement (session=\"5677b7d4f164196b3372fba4f93fca2f\", element=\"f2eed131-efaa-4c7c-a5fe-6677f890bd2e\")>]"
      ]
     },
     "execution_count": 20,
     "metadata": {},
     "output_type": "execute_result"
    }
   ],
   "source": [
    "locations_tags=driver.find_elements_by_xpath(\"//li[@class='fleft grey-text br2 placeHolderLi location']/span[1]\")\n",
    "locations_tags[0:9]"
   ]
  },
  {
   "cell_type": "code",
   "execution_count": 21,
   "id": "740b9edf",
   "metadata": {},
   "outputs": [
    {
     "data": {
      "text/plain": [
       "['Bangalore/Bengaluru',\n",
       " 'Bangalore/Bengaluru',\n",
       " 'Bangalore/Bengaluru',\n",
       " 'Bangalore/Bengaluru',\n",
       " 'Bangalore/Bengaluru',\n",
       " 'Bangalore/Bengaluru',\n",
       " 'Bangalore/Bengaluru',\n",
       " 'Bangalore/Bengaluru',\n",
       " 'Bangalore/Bengaluru']"
      ]
     },
     "execution_count": 21,
     "metadata": {},
     "output_type": "execute_result"
    }
   ],
   "source": [
    "for i in locations_tags:\n",
    "    location=i.text\n",
    "    locations_list.append(location)\n",
    "locations_list[0:9]"
   ]
  },
  {
   "cell_type": "code",
   "execution_count": 22,
   "id": "42246a86",
   "metadata": {},
   "outputs": [
    {
     "name": "stdout",
     "output_type": "stream",
     "text": [
      "20 20 20 20\n"
     ]
    }
   ],
   "source": [
    "print(len(job_titles),len(company_names),len(experience_list),len(locations_list))"
   ]
  },
  {
   "cell_type": "code",
   "execution_count": 23,
   "id": "8986f5cf",
   "metadata": {},
   "outputs": [],
   "source": [
    "jobs=pd.DataFrame({})\n",
    "jobs['title']=job_titles\n",
    "jobs['company']=company_names\n",
    "jobs['experience_required']=experience_list\n",
    "jobs['location']=locations_list"
   ]
  },
  {
   "cell_type": "code",
   "execution_count": 24,
   "id": "d0a03518",
   "metadata": {},
   "outputs": [
    {
     "data": {
      "text/html": [
       "<div>\n",
       "<style scoped>\n",
       "    .dataframe tbody tr th:only-of-type {\n",
       "        vertical-align: middle;\n",
       "    }\n",
       "\n",
       "    .dataframe tbody tr th {\n",
       "        vertical-align: top;\n",
       "    }\n",
       "\n",
       "    .dataframe thead th {\n",
       "        text-align: right;\n",
       "    }\n",
       "</style>\n",
       "<table border=\"1\" class=\"dataframe\">\n",
       "  <thead>\n",
       "    <tr style=\"text-align: right;\">\n",
       "      <th></th>\n",
       "      <th>title</th>\n",
       "      <th>company</th>\n",
       "      <th>experience_required</th>\n",
       "      <th>location</th>\n",
       "    </tr>\n",
       "  </thead>\n",
       "  <tbody>\n",
       "    <tr>\n",
       "      <th>0</th>\n",
       "      <td>Data Analyst II</td>\n",
       "      <td>Cerner</td>\n",
       "      <td>6-10 Yrs</td>\n",
       "      <td>Bangalore/Bengaluru</td>\n",
       "    </tr>\n",
       "    <tr>\n",
       "      <th>1</th>\n",
       "      <td>Senior Data Analyst II</td>\n",
       "      <td>Flipkart</td>\n",
       "      <td>2-4 Yrs</td>\n",
       "      <td>Bangalore/Bengaluru</td>\n",
       "    </tr>\n",
       "    <tr>\n",
       "      <th>2</th>\n",
       "      <td>Senior Data Analyst II</td>\n",
       "      <td>Flipkart</td>\n",
       "      <td>3-6 Yrs</td>\n",
       "      <td>Bangalore/Bengaluru</td>\n",
       "    </tr>\n",
       "    <tr>\n",
       "      <th>3</th>\n",
       "      <td>Senior Data Analyst - Logistics</td>\n",
       "      <td>Gojek</td>\n",
       "      <td>4-10 Yrs</td>\n",
       "      <td>Bangalore/Bengaluru</td>\n",
       "    </tr>\n",
       "    <tr>\n",
       "      <th>4</th>\n",
       "      <td>Data Analysts with Business Analysis</td>\n",
       "      <td>Avanze Technologies India Pvt. Ltd.</td>\n",
       "      <td>6-8 Yrs</td>\n",
       "      <td>Bangalore/Bengaluru</td>\n",
       "    </tr>\n",
       "    <tr>\n",
       "      <th>5</th>\n",
       "      <td>Senior Data Analyst</td>\n",
       "      <td>Flipkart</td>\n",
       "      <td>4-6 Yrs</td>\n",
       "      <td>Bangalore/Bengaluru</td>\n",
       "    </tr>\n",
       "    <tr>\n",
       "      <th>6</th>\n",
       "      <td>Sr Domain Expert -Data Analysts</td>\n",
       "      <td>Siemens</td>\n",
       "      <td>0-10 Yrs</td>\n",
       "      <td>Bangalore/Bengaluru</td>\n",
       "    </tr>\n",
       "    <tr>\n",
       "      <th>7</th>\n",
       "      <td>Consultant - Data Analyst</td>\n",
       "      <td>Flipkart</td>\n",
       "      <td>1-3 Yrs</td>\n",
       "      <td>Bangalore/Bengaluru</td>\n",
       "    </tr>\n",
       "    <tr>\n",
       "      <th>8</th>\n",
       "      <td>Data Analyst</td>\n",
       "      <td>Zetwerk Manufacturing Businesses</td>\n",
       "      <td>1-3 Yrs</td>\n",
       "      <td>Bangalore/Bengaluru</td>\n",
       "    </tr>\n",
       "    <tr>\n",
       "      <th>9</th>\n",
       "      <td>People Data Analyst</td>\n",
       "      <td>Walmart</td>\n",
       "      <td>4-10 Yrs</td>\n",
       "      <td>Bangalore/Bengaluru</td>\n",
       "    </tr>\n",
       "    <tr>\n",
       "      <th>10</th>\n",
       "      <td>Data Analyst</td>\n",
       "      <td>Enrich talents</td>\n",
       "      <td>0-4 Yrs</td>\n",
       "      <td>Bangalore/Bengaluru</td>\n",
       "    </tr>\n",
       "    <tr>\n",
       "      <th>11</th>\n",
       "      <td>Senior Data Analyst</td>\n",
       "      <td>Saffron Careers Private Limited</td>\n",
       "      <td>3-9 Yrs</td>\n",
       "      <td>Bangalore/Bengaluru</td>\n",
       "    </tr>\n",
       "    <tr>\n",
       "      <th>12</th>\n",
       "      <td>Blockchain AML Data Analyst</td>\n",
       "      <td>PayPal</td>\n",
       "      <td>3-7 Yrs</td>\n",
       "      <td>Bangalore/Bengaluru</td>\n",
       "    </tr>\n",
       "    <tr>\n",
       "      <th>13</th>\n",
       "      <td>Senior Data Analyst</td>\n",
       "      <td>Walmart</td>\n",
       "      <td>5-8 Yrs</td>\n",
       "      <td>Bangalore/Bengaluru</td>\n",
       "    </tr>\n",
       "    <tr>\n",
       "      <th>14</th>\n",
       "      <td>Senior Data Analyst</td>\n",
       "      <td>LatentView</td>\n",
       "      <td>2-6 Yrs</td>\n",
       "      <td>Chennai, Bangalore/Bengaluru</td>\n",
       "    </tr>\n",
       "    <tr>\n",
       "      <th>15</th>\n",
       "      <td>Data Analyst</td>\n",
       "      <td>AECOM</td>\n",
       "      <td>2-7 Yrs</td>\n",
       "      <td>Bangalore/Bengaluru</td>\n",
       "    </tr>\n",
       "    <tr>\n",
       "      <th>16</th>\n",
       "      <td>Senior Data Analyst (Digital Services Analytics)</td>\n",
       "      <td>Dell Technologies</td>\n",
       "      <td>1-6 Yrs</td>\n",
       "      <td>Bangalore/Bengaluru</td>\n",
       "    </tr>\n",
       "    <tr>\n",
       "      <th>17</th>\n",
       "      <td>Senior Data Analyst</td>\n",
       "      <td>FINNOVATION TECH SOLUTIONS PRIVATE LIMITED</td>\n",
       "      <td>3-6 Yrs</td>\n",
       "      <td>Bangalore/Bengaluru(Old Madras Road)</td>\n",
       "    </tr>\n",
       "    <tr>\n",
       "      <th>18</th>\n",
       "      <td>Senior Data Analyst - Collibra</td>\n",
       "      <td>Shell</td>\n",
       "      <td>8-12 Yrs</td>\n",
       "      <td>Bangalore/Bengaluru</td>\n",
       "    </tr>\n",
       "    <tr>\n",
       "      <th>19</th>\n",
       "      <td>Assistant Manager/Lead/Manager - Data Analyst ...</td>\n",
       "      <td>Huquo Consulting Pvt. Ltd</td>\n",
       "      <td>2-6 Yrs</td>\n",
       "      <td>Gurgaon/Gurugram, Bangalore/Bengaluru</td>\n",
       "    </tr>\n",
       "  </tbody>\n",
       "</table>\n",
       "</div>"
      ],
      "text/plain": [
       "                                                title  \\\n",
       "0                                     Data Analyst II   \n",
       "1                              Senior Data Analyst II   \n",
       "2                              Senior Data Analyst II   \n",
       "3                     Senior Data Analyst - Logistics   \n",
       "4                Data Analysts with Business Analysis   \n",
       "5                                 Senior Data Analyst   \n",
       "6                     Sr Domain Expert -Data Analysts   \n",
       "7                           Consultant - Data Analyst   \n",
       "8                                        Data Analyst   \n",
       "9                                 People Data Analyst   \n",
       "10                                       Data Analyst   \n",
       "11                                Senior Data Analyst   \n",
       "12                        Blockchain AML Data Analyst   \n",
       "13                                Senior Data Analyst   \n",
       "14                                Senior Data Analyst   \n",
       "15                                       Data Analyst   \n",
       "16   Senior Data Analyst (Digital Services Analytics)   \n",
       "17                                Senior Data Analyst   \n",
       "18                     Senior Data Analyst - Collibra   \n",
       "19  Assistant Manager/Lead/Manager - Data Analyst ...   \n",
       "\n",
       "                                       company experience_required  \\\n",
       "0                                       Cerner            6-10 Yrs   \n",
       "1                                     Flipkart             2-4 Yrs   \n",
       "2                                     Flipkart             3-6 Yrs   \n",
       "3                                        Gojek            4-10 Yrs   \n",
       "4          Avanze Technologies India Pvt. Ltd.             6-8 Yrs   \n",
       "5                                     Flipkart             4-6 Yrs   \n",
       "6                                      Siemens            0-10 Yrs   \n",
       "7                                     Flipkart             1-3 Yrs   \n",
       "8             Zetwerk Manufacturing Businesses             1-3 Yrs   \n",
       "9                                      Walmart            4-10 Yrs   \n",
       "10                              Enrich talents             0-4 Yrs   \n",
       "11             Saffron Careers Private Limited             3-9 Yrs   \n",
       "12                                      PayPal             3-7 Yrs   \n",
       "13                                     Walmart             5-8 Yrs   \n",
       "14                                  LatentView             2-6 Yrs   \n",
       "15                                       AECOM             2-7 Yrs   \n",
       "16                           Dell Technologies             1-6 Yrs   \n",
       "17  FINNOVATION TECH SOLUTIONS PRIVATE LIMITED             3-6 Yrs   \n",
       "18                                       Shell            8-12 Yrs   \n",
       "19                   Huquo Consulting Pvt. Ltd             2-6 Yrs   \n",
       "\n",
       "                                 location  \n",
       "0                     Bangalore/Bengaluru  \n",
       "1                     Bangalore/Bengaluru  \n",
       "2                     Bangalore/Bengaluru  \n",
       "3                     Bangalore/Bengaluru  \n",
       "4                     Bangalore/Bengaluru  \n",
       "5                     Bangalore/Bengaluru  \n",
       "6                     Bangalore/Bengaluru  \n",
       "7                     Bangalore/Bengaluru  \n",
       "8                     Bangalore/Bengaluru  \n",
       "9                     Bangalore/Bengaluru  \n",
       "10                    Bangalore/Bengaluru  \n",
       "11                    Bangalore/Bengaluru  \n",
       "12                    Bangalore/Bengaluru  \n",
       "13                    Bangalore/Bengaluru  \n",
       "14           Chennai, Bangalore/Bengaluru  \n",
       "15                    Bangalore/Bengaluru  \n",
       "16                    Bangalore/Bengaluru  \n",
       "17   Bangalore/Bengaluru(Old Madras Road)  \n",
       "18                    Bangalore/Bengaluru  \n",
       "19  Gurgaon/Gurugram, Bangalore/Bengaluru  "
      ]
     },
     "execution_count": 24,
     "metadata": {},
     "output_type": "execute_result"
    }
   ],
   "source": [
    "jobs"
   ]
  },
  {
   "cell_type": "code",
   "execution_count": null,
   "id": "ff698609",
   "metadata": {},
   "outputs": [],
   "source": []
  }
 ],
 "metadata": {
  "kernelspec": {
   "display_name": "Python 3",
   "language": "python",
   "name": "python3"
  },
  "language_info": {
   "codemirror_mode": {
    "name": "ipython",
    "version": 3
   },
   "file_extension": ".py",
   "mimetype": "text/x-python",
   "name": "python",
   "nbconvert_exporter": "python",
   "pygments_lexer": "ipython3",
   "version": "3.8.8"
  }
 },
 "nbformat": 4,
 "nbformat_minor": 5
}
