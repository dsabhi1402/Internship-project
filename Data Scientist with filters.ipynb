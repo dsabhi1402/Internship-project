{
 "cells": [
  {
   "cell_type": "markdown",
   "id": "df8a7b96",
   "metadata": {},
   "source": [
    "# Q3: In this question you have to scrape data using the filters available on the webpage as shown below:\n",
    "        You have to use the location and salary filter.\n",
    "You have to scrape data for “Data Scientist” designation for first 10 job results.\n",
    "You have to scrape the job-title, job-location, company name, experience required. The location filter to be used is “Delhi/NCR”. The salary filter to be used is “3-6” lakhs"
   ]
  },
  {
   "cell_type": "code",
   "execution_count": 26,
   "id": "be247446",
   "metadata": {},
   "outputs": [
    {
     "name": "stdout",
     "output_type": "stream",
     "text": [
      "Requirement already satisfied: selenium in c:\\users\\hp\\anaconda3\\lib\\site-packages (4.1.3)\n",
      "Requirement already satisfied: trio-websocket~=0.9 in c:\\users\\hp\\anaconda3\\lib\\site-packages (from selenium) (0.9.2)\n",
      "Requirement already satisfied: trio~=0.17 in c:\\users\\hp\\anaconda3\\lib\\site-packages (from selenium) (0.20.0)\n",
      "Requirement already satisfied: urllib3[secure,socks]~=1.26 in c:\\users\\hp\\anaconda3\\lib\\site-packages (from selenium) (1.26.4)\n",
      "Requirement already satisfied: sortedcontainers in c:\\users\\hp\\anaconda3\\lib\\site-packages (from trio~=0.17->selenium) (2.3.0)\n",
      "Requirement already satisfied: cffi>=1.14 in c:\\users\\hp\\anaconda3\\lib\\site-packages (from trio~=0.17->selenium) (1.14.5)\n",
      "Requirement already satisfied: outcome in c:\\users\\hp\\anaconda3\\lib\\site-packages (from trio~=0.17->selenium) (1.1.0)\n",
      "Requirement already satisfied: sniffio in c:\\users\\hp\\anaconda3\\lib\\site-packages (from trio~=0.17->selenium) (1.2.0)\n",
      "Requirement already satisfied: async-generator>=1.9 in c:\\users\\hp\\anaconda3\\lib\\site-packages (from trio~=0.17->selenium) (1.10)\n",
      "Requirement already satisfied: attrs>=19.2.0 in c:\\users\\hp\\anaconda3\\lib\\site-packages (from trio~=0.17->selenium) (20.3.0)\n",
      "Requirement already satisfied: idna in c:\\users\\hp\\anaconda3\\lib\\site-packages (from trio~=0.17->selenium) (2.10)\n",
      "Requirement already satisfied: pycparser in c:\\users\\hp\\anaconda3\\lib\\site-packages (from cffi>=1.14->trio~=0.17->selenium) (2.20)\n",
      "Requirement already satisfied: wsproto>=0.14 in c:\\users\\hp\\anaconda3\\lib\\site-packages (from trio-websocket~=0.9->selenium) (1.1.0)\n",
      "Requirement already satisfied: cryptography>=1.3.4 in c:\\users\\hp\\anaconda3\\lib\\site-packages (from urllib3[secure,socks]~=1.26->selenium) (3.4.7)\n",
      "Requirement already satisfied: certifi in c:\\users\\hp\\anaconda3\\lib\\site-packages (from urllib3[secure,socks]~=1.26->selenium) (2020.12.5)\n",
      "Requirement already satisfied: pyOpenSSL>=0.14 in c:\\users\\hp\\anaconda3\\lib\\site-packages (from urllib3[secure,socks]~=1.26->selenium) (20.0.1)\n",
      "Requirement already satisfied: PySocks!=1.5.7,<2.0,>=1.5.6 in c:\\users\\hp\\anaconda3\\lib\\site-packages (from urllib3[secure,socks]~=1.26->selenium) (1.7.1)\n",
      "Requirement already satisfied: six>=1.5.2 in c:\\users\\hp\\anaconda3\\lib\\site-packages (from pyOpenSSL>=0.14->urllib3[secure,socks]~=1.26->selenium) (1.15.0)\n",
      "Requirement already satisfied: h11<1,>=0.9.0 in c:\\users\\hp\\anaconda3\\lib\\site-packages (from wsproto>=0.14->trio-websocket~=0.9->selenium) (0.13.0)\n"
     ]
    }
   ],
   "source": [
    "!pip install selenium"
   ]
  },
  {
   "cell_type": "code",
   "execution_count": null,
   "id": "23e0beae",
   "metadata": {},
   "outputs": [],
   "source": [
    "import selenium\n",
    "import pandas as pd\n",
    "from selenium import webdriver\n",
    "import warnings\n",
    "warnings.filterwarnings(\"ignore\")\n",
    "import time"
   ]
  },
  {
   "cell_type": "code",
   "execution_count": 3,
   "id": "e79c5578",
   "metadata": {},
   "outputs": [],
   "source": [
    "driver=webdriver.Chrome(r\"C:\\Users\\HP\\Downloads\\chromedriver_win32\\chromedriver.exe\")"
   ]
  },
  {
   "cell_type": "code",
   "execution_count": 4,
   "id": "0bfdfcc9",
   "metadata": {},
   "outputs": [],
   "source": [
    "driver=webdriver.Chrome(\"chromedriver.exe\")\n",
    "time.sleep(2)"
   ]
  },
  {
   "cell_type": "code",
   "execution_count": 7,
   "id": "ed26cb87",
   "metadata": {},
   "outputs": [],
   "source": [
    "driver.get('https://www.naukri.com/')"
   ]
  },
  {
   "cell_type": "code",
   "execution_count": null,
   "id": "d4121ac7",
   "metadata": {},
   "outputs": [],
   "source": [
    "search_field_designation=driver.find_element_by_class_name(\"inpWrap\")\n",
    "search_field_designation.send_keys(\"Data scientist\")\n",
    "search_field_location=driver.find_element_by_xpath('/html/body/div[3]/div[3]/div[1]/div[1]/form/div[1]/div/div[2]/div[1]/div[2]/input')\n",
    "search_field_location.send_keys(\"Delhi/NCR\")"
   ]
  },
  {
   "cell_type": "code",
   "execution_count": null,
   "id": "71259bcb",
   "metadata": {},
   "outputs": [],
   "source": [
    "search_button=driver.find_element_by_xpath(\"/html/body/div[3]/div[3]/div[1]/div[1]/form/div[1]/button\")\n",
    "search_button.click()"
   ]
  },
  {
   "cell_type": "code",
   "execution_count": 10,
   "id": "235a88f1",
   "metadata": {},
   "outputs": [],
   "source": [
    "url=\"https://www.naukri.com/data-scientist-jobs-in-delhi-ncr?k=data%20scientist&l=Delhi%2FNCR\""
   ]
  },
  {
   "cell_type": "code",
   "execution_count": 11,
   "id": "74b36f8e",
   "metadata": {},
   "outputs": [],
   "source": [
    "driver.get(url)"
   ]
  },
  {
   "cell_type": "code",
   "execution_count": 12,
   "id": "7f0e3604",
   "metadata": {},
   "outputs": [],
   "source": [
    "job_titles=[]\n",
    "company_names=[]\n",
    "locations_list=[]\n",
    "experience_list=[]\n",
    "salary_list=[]"
   ]
  },
  {
   "cell_type": "code",
   "execution_count": 13,
   "id": "a07723fe",
   "metadata": {},
   "outputs": [
    {
     "data": {
      "text/plain": [
       "[<selenium.webdriver.remote.webelement.WebElement (session=\"467b34babc2600cf75e8aaf79803cc93\", element=\"7d7acfaa-bc5c-4290-9af8-86361ba8b291\")>,\n",
       " <selenium.webdriver.remote.webelement.WebElement (session=\"467b34babc2600cf75e8aaf79803cc93\", element=\"28c8552c-762b-4efb-b205-58821170af13\")>,\n",
       " <selenium.webdriver.remote.webelement.WebElement (session=\"467b34babc2600cf75e8aaf79803cc93\", element=\"279d3160-7855-4d6f-b6c0-b960404bae00\")>,\n",
       " <selenium.webdriver.remote.webelement.WebElement (session=\"467b34babc2600cf75e8aaf79803cc93\", element=\"2a23bf48-5bbd-4cfc-93df-a51ebfd7db17\")>,\n",
       " <selenium.webdriver.remote.webelement.WebElement (session=\"467b34babc2600cf75e8aaf79803cc93\", element=\"0af57421-6dbe-49ca-96a0-37c1b4f88002\")>,\n",
       " <selenium.webdriver.remote.webelement.WebElement (session=\"467b34babc2600cf75e8aaf79803cc93\", element=\"1520173a-23c6-4f1e-bd7b-9dcf1b85354f\")>,\n",
       " <selenium.webdriver.remote.webelement.WebElement (session=\"467b34babc2600cf75e8aaf79803cc93\", element=\"dbdb5308-cce8-40f8-b355-694867a1643b\")>,\n",
       " <selenium.webdriver.remote.webelement.WebElement (session=\"467b34babc2600cf75e8aaf79803cc93\", element=\"4bbadcd3-2234-448a-9599-f5aedb33e174\")>,\n",
       " <selenium.webdriver.remote.webelement.WebElement (session=\"467b34babc2600cf75e8aaf79803cc93\", element=\"6d0f1647-7369-4fe8-8f05-ddad198b92fd\")>]"
      ]
     },
     "execution_count": 13,
     "metadata": {},
     "output_type": "execute_result"
    }
   ],
   "source": [
    "titles_tags=driver.find_elements_by_xpath(\"//a[@class='title fw500 ellipsis']\")\n",
    "titles_tags[0:9]"
   ]
  },
  {
   "cell_type": "code",
   "execution_count": 14,
   "id": "4a61e677",
   "metadata": {},
   "outputs": [
    {
     "data": {
      "text/plain": [
       "['Data Scientist - Immediate Joiners',\n",
       " 'Snr Global Prgm Mngr & Data Scientist',\n",
       " 'Snr Global Program Manager & Data Scientist',\n",
       " 'Sr. Data Scientist',\n",
       " 'Data Analyst/ Data Scientist Data Analytics & Visualizations',\n",
       " 'Data Scientist - Python/Machine Learning',\n",
       " 'Data Scientist - Statistical Modeling',\n",
       " 'Data Scientist',\n",
       " 'Data Scientist - Data Science Team - Insurance Domain']"
      ]
     },
     "execution_count": 14,
     "metadata": {},
     "output_type": "execute_result"
    }
   ],
   "source": [
    "for i in titles_tags:\n",
    "    title=i.text\n",
    "    job_titles.append(title)\n",
    "job_titles[0:9]"
   ]
  },
  {
   "cell_type": "code",
   "execution_count": 15,
   "id": "ac0cefca",
   "metadata": {},
   "outputs": [
    {
     "data": {
      "text/plain": [
       "[<selenium.webdriver.remote.webelement.WebElement (session=\"467b34babc2600cf75e8aaf79803cc93\", element=\"c7258cc1-4001-4156-be5e-252c02a7aad4\")>,\n",
       " <selenium.webdriver.remote.webelement.WebElement (session=\"467b34babc2600cf75e8aaf79803cc93\", element=\"26835887-27ed-40c7-8e73-4e4ef206d42e\")>,\n",
       " <selenium.webdriver.remote.webelement.WebElement (session=\"467b34babc2600cf75e8aaf79803cc93\", element=\"662b190d-68f0-4d03-9dff-8cfa9d668bbf\")>,\n",
       " <selenium.webdriver.remote.webelement.WebElement (session=\"467b34babc2600cf75e8aaf79803cc93\", element=\"b11f2d5c-f0dd-4f1f-80d3-60f9b937782e\")>,\n",
       " <selenium.webdriver.remote.webelement.WebElement (session=\"467b34babc2600cf75e8aaf79803cc93\", element=\"e0d4bda2-020e-4902-a9a0-33d16910721d\")>,\n",
       " <selenium.webdriver.remote.webelement.WebElement (session=\"467b34babc2600cf75e8aaf79803cc93\", element=\"2781a606-5659-4a56-bc31-23ba74a35e1b\")>,\n",
       " <selenium.webdriver.remote.webelement.WebElement (session=\"467b34babc2600cf75e8aaf79803cc93\", element=\"9539c2ff-dec0-4073-ad7e-b77c8245de58\")>,\n",
       " <selenium.webdriver.remote.webelement.WebElement (session=\"467b34babc2600cf75e8aaf79803cc93\", element=\"5f304fa5-e3e0-471d-b006-eced6009f267\")>,\n",
       " <selenium.webdriver.remote.webelement.WebElement (session=\"467b34babc2600cf75e8aaf79803cc93\", element=\"e982dd61-5c6a-4a45-9c80-08f71b6f46cc\")>]"
      ]
     },
     "execution_count": 15,
     "metadata": {},
     "output_type": "execute_result"
    }
   ],
   "source": [
    "companies_tags=driver.find_elements_by_xpath(\"//a[@class='subTitle ellipsis fleft']\")\n",
    "companies_tags[0:9]"
   ]
  },
  {
   "cell_type": "code",
   "execution_count": 16,
   "id": "1005df19",
   "metadata": {},
   "outputs": [
    {
     "data": {
      "text/plain": [
       "'SKILLVENT'"
      ]
     },
     "execution_count": 16,
     "metadata": {},
     "output_type": "execute_result"
    }
   ],
   "source": [
    "for i in companies_tags:\n",
    "    company_name=i.text\n",
    "    company_names.append(company_name)\n",
    "company_name[0:9]"
   ]
  },
  {
   "cell_type": "code",
   "execution_count": 17,
   "id": "4957879b",
   "metadata": {},
   "outputs": [
    {
     "data": {
      "text/plain": [
       "[<selenium.webdriver.remote.webelement.WebElement (session=\"467b34babc2600cf75e8aaf79803cc93\", element=\"0b4147a9-e712-410d-97e7-eb1f450ba040\")>,\n",
       " <selenium.webdriver.remote.webelement.WebElement (session=\"467b34babc2600cf75e8aaf79803cc93\", element=\"3e78a68b-df70-4c26-bd84-3b9cc25a3320\")>,\n",
       " <selenium.webdriver.remote.webelement.WebElement (session=\"467b34babc2600cf75e8aaf79803cc93\", element=\"0db221dd-1427-4a9a-9ffb-82b5029949c4\")>,\n",
       " <selenium.webdriver.remote.webelement.WebElement (session=\"467b34babc2600cf75e8aaf79803cc93\", element=\"d26020d5-3ea0-4207-8c46-2bbe6bb8ccba\")>,\n",
       " <selenium.webdriver.remote.webelement.WebElement (session=\"467b34babc2600cf75e8aaf79803cc93\", element=\"3cf64ce4-dc73-49f6-8a34-d065943f42a6\")>,\n",
       " <selenium.webdriver.remote.webelement.WebElement (session=\"467b34babc2600cf75e8aaf79803cc93\", element=\"f8aea336-9837-4a25-b5a0-a664ba373a85\")>,\n",
       " <selenium.webdriver.remote.webelement.WebElement (session=\"467b34babc2600cf75e8aaf79803cc93\", element=\"6f376095-3c13-4c6f-9e72-642a2176f6cd\")>,\n",
       " <selenium.webdriver.remote.webelement.WebElement (session=\"467b34babc2600cf75e8aaf79803cc93\", element=\"8a533e81-6bcd-496f-874e-b2e3a6f035f7\")>,\n",
       " <selenium.webdriver.remote.webelement.WebElement (session=\"467b34babc2600cf75e8aaf79803cc93\", element=\"6f5a0dac-aac2-443d-8a33-6615a1435b6b\")>]"
      ]
     },
     "execution_count": 17,
     "metadata": {},
     "output_type": "execute_result"
    }
   ],
   "source": [
    "experience_tags=driver.find_elements_by_xpath(\"//li[@class='fleft grey-text br2 placeHolderLi experience']/span[1]\")\n",
    "experience_tags[0:9]"
   ]
  },
  {
   "cell_type": "code",
   "execution_count": 18,
   "id": "778ac4d9",
   "metadata": {},
   "outputs": [
    {
     "data": {
      "text/plain": [
       "['5-8 Yrs',\n",
       " '4-8 Yrs',\n",
       " '7-12 Yrs',\n",
       " '3-7 Yrs',\n",
       " '2-4 Yrs',\n",
       " '10-14 Yrs',\n",
       " '3-8 Yrs',\n",
       " '5-9 Yrs',\n",
       " '8-13 Yrs']"
      ]
     },
     "execution_count": 18,
     "metadata": {},
     "output_type": "execute_result"
    }
   ],
   "source": [
    "for i in experience_tags:\n",
    "    experience=i.text\n",
    "    experience_list.append(experience)\n",
    "experience_list[0:9]  "
   ]
  },
  {
   "cell_type": "code",
   "execution_count": 19,
   "id": "038ee9a3",
   "metadata": {},
   "outputs": [
    {
     "data": {
      "text/plain": [
       "[<selenium.webdriver.remote.webelement.WebElement (session=\"467b34babc2600cf75e8aaf79803cc93\", element=\"4bc6c788-a978-4663-92a8-7d0cf5ebd095\")>,\n",
       " <selenium.webdriver.remote.webelement.WebElement (session=\"467b34babc2600cf75e8aaf79803cc93\", element=\"a2b92101-9847-4061-a196-ec7526b47d3b\")>,\n",
       " <selenium.webdriver.remote.webelement.WebElement (session=\"467b34babc2600cf75e8aaf79803cc93\", element=\"ec729483-e1e2-4c6a-ba1c-4c310d90a978\")>,\n",
       " <selenium.webdriver.remote.webelement.WebElement (session=\"467b34babc2600cf75e8aaf79803cc93\", element=\"d476e63c-5f3e-4769-a14f-5064f5f4590b\")>,\n",
       " <selenium.webdriver.remote.webelement.WebElement (session=\"467b34babc2600cf75e8aaf79803cc93\", element=\"ee0d71be-5dfc-4445-9304-7cc98745a9ab\")>,\n",
       " <selenium.webdriver.remote.webelement.WebElement (session=\"467b34babc2600cf75e8aaf79803cc93\", element=\"041e56ba-a00a-43cf-ae11-1313377e4648\")>,\n",
       " <selenium.webdriver.remote.webelement.WebElement (session=\"467b34babc2600cf75e8aaf79803cc93\", element=\"f1cb17f9-48e8-4a73-a54a-f5c499e5b392\")>,\n",
       " <selenium.webdriver.remote.webelement.WebElement (session=\"467b34babc2600cf75e8aaf79803cc93\", element=\"1b74b2c7-95ae-40a1-acf2-1a0576223d64\")>,\n",
       " <selenium.webdriver.remote.webelement.WebElement (session=\"467b34babc2600cf75e8aaf79803cc93\", element=\"af6424c6-0ee8-4211-8bca-c4463b9ea131\")>]"
      ]
     },
     "execution_count": 19,
     "metadata": {},
     "output_type": "execute_result"
    }
   ],
   "source": [
    "salary_tags=driver.find_elements_by_xpath(\"//li[@class='fleft grey-text br2 placeHolderLi salary']/span[1]\")\n",
    "salary_tags[0:9]"
   ]
  },
  {
   "cell_type": "code",
   "execution_count": 20,
   "id": "fee7bdb0",
   "metadata": {},
   "outputs": [
    {
     "data": {
      "text/plain": [
       "['Not disclosed',\n",
       " 'Not disclosed',\n",
       " 'Not disclosed',\n",
       " 'Not disclosed',\n",
       " '7,50,000 - 12,00,000 PA.',\n",
       " 'Not disclosed',\n",
       " 'Not disclosed',\n",
       " 'Not disclosed',\n",
       " 'Not disclosed']"
      ]
     },
     "execution_count": 20,
     "metadata": {},
     "output_type": "execute_result"
    }
   ],
   "source": [
    "for i in salary_tags:\n",
    "    salary=i.text\n",
    "    salary_list.append(salary)\n",
    "salary_list[0:9]"
   ]
  },
  {
   "cell_type": "code",
   "execution_count": 21,
   "id": "cfd24401",
   "metadata": {},
   "outputs": [
    {
     "data": {
      "text/plain": [
       "[<selenium.webdriver.remote.webelement.WebElement (session=\"467b34babc2600cf75e8aaf79803cc93\", element=\"2d6d356b-1a0e-4366-a449-2c198c048fcd\")>,\n",
       " <selenium.webdriver.remote.webelement.WebElement (session=\"467b34babc2600cf75e8aaf79803cc93\", element=\"81b8152b-43ec-4fd1-b61c-7239b4fb1496\")>,\n",
       " <selenium.webdriver.remote.webelement.WebElement (session=\"467b34babc2600cf75e8aaf79803cc93\", element=\"31f274dd-93b2-43d0-80f5-76842d9fab29\")>,\n",
       " <selenium.webdriver.remote.webelement.WebElement (session=\"467b34babc2600cf75e8aaf79803cc93\", element=\"d1dadc2c-b152-4388-8d98-99dbec20f9bb\")>,\n",
       " <selenium.webdriver.remote.webelement.WebElement (session=\"467b34babc2600cf75e8aaf79803cc93\", element=\"7dc939eb-64f0-4fbe-9dd1-6dd8ba63fb7f\")>,\n",
       " <selenium.webdriver.remote.webelement.WebElement (session=\"467b34babc2600cf75e8aaf79803cc93\", element=\"ba6ec271-3853-4fdc-8ec4-14291f6de7ec\")>,\n",
       " <selenium.webdriver.remote.webelement.WebElement (session=\"467b34babc2600cf75e8aaf79803cc93\", element=\"7923e6d3-45e4-4d99-9ac9-295e788d8058\")>,\n",
       " <selenium.webdriver.remote.webelement.WebElement (session=\"467b34babc2600cf75e8aaf79803cc93\", element=\"db528388-e97e-4642-bb53-c74e79dc5f20\")>,\n",
       " <selenium.webdriver.remote.webelement.WebElement (session=\"467b34babc2600cf75e8aaf79803cc93\", element=\"d0adc061-4b64-4a70-852d-4d8d93ff0336\")>]"
      ]
     },
     "execution_count": 21,
     "metadata": {},
     "output_type": "execute_result"
    }
   ],
   "source": [
    "locations_tags=driver.find_elements_by_xpath(\"//li[@class='fleft grey-text br2 placeHolderLi location']/span[1]\")\n",
    "locations_tags[0:9]"
   ]
  },
  {
   "cell_type": "code",
   "execution_count": 22,
   "id": "5792522e",
   "metadata": {},
   "outputs": [
    {
     "data": {
      "text/plain": [
       "['Noida, Mumbai, Pune, Bangalore/Bengaluru',\n",
       " 'Gurgaon/Gurugram',\n",
       " 'Gurgaon/Gurugram',\n",
       " 'Gurgaon/Gurugram',\n",
       " 'Noida(Sector-2 Noida)',\n",
       " 'Mumbai, Chennai, Bangalore/Bengaluru, Delhi / NCR',\n",
       " 'Noida',\n",
       " 'Noida',\n",
       " 'Gurgaon/Gurugram']"
      ]
     },
     "execution_count": 22,
     "metadata": {},
     "output_type": "execute_result"
    }
   ],
   "source": [
    "for i in locations_tags:\n",
    "    location=i.text\n",
    "    locations_list.append(location)\n",
    "locations_list[0:9]"
   ]
  },
  {
   "cell_type": "code",
   "execution_count": 23,
   "id": "737862c8",
   "metadata": {},
   "outputs": [
    {
     "name": "stdout",
     "output_type": "stream",
     "text": [
      "20 20 20 20 20\n"
     ]
    }
   ],
   "source": [
    "print(len(job_titles),len(company_names),len(experience_list),len(locations_list),len(salary_list))"
   ]
  },
  {
   "cell_type": "code",
   "execution_count": 24,
   "id": "21933b01",
   "metadata": {},
   "outputs": [],
   "source": [
    "jobs=pd.DataFrame({})\n",
    "jobs['title']=job_titles\n",
    "jobs['company']=company_names\n",
    "jobs['experience_required']=experience_list\n",
    "jobs['location']=locations_list\n",
    "jobs['salary']=salary_list"
   ]
  },
  {
   "cell_type": "code",
   "execution_count": 25,
   "id": "cb1efc2b",
   "metadata": {},
   "outputs": [
    {
     "data": {
      "text/html": [
       "<div>\n",
       "<style scoped>\n",
       "    .dataframe tbody tr th:only-of-type {\n",
       "        vertical-align: middle;\n",
       "    }\n",
       "\n",
       "    .dataframe tbody tr th {\n",
       "        vertical-align: top;\n",
       "    }\n",
       "\n",
       "    .dataframe thead th {\n",
       "        text-align: right;\n",
       "    }\n",
       "</style>\n",
       "<table border=\"1\" class=\"dataframe\">\n",
       "  <thead>\n",
       "    <tr style=\"text-align: right;\">\n",
       "      <th></th>\n",
       "      <th>title</th>\n",
       "      <th>company</th>\n",
       "      <th>experience_required</th>\n",
       "      <th>location</th>\n",
       "      <th>salary</th>\n",
       "    </tr>\n",
       "  </thead>\n",
       "  <tbody>\n",
       "    <tr>\n",
       "      <th>0</th>\n",
       "      <td>Data Scientist - Immediate Joiners</td>\n",
       "      <td>Bristlecone</td>\n",
       "      <td>5-8 Yrs</td>\n",
       "      <td>Noida, Mumbai, Pune, Bangalore/Bengaluru</td>\n",
       "      <td>Not disclosed</td>\n",
       "    </tr>\n",
       "    <tr>\n",
       "      <th>1</th>\n",
       "      <td>Snr Global Prgm Mngr &amp; Data Scientist</td>\n",
       "      <td>Orange Business Services India Technology Pvt Ltd</td>\n",
       "      <td>4-8 Yrs</td>\n",
       "      <td>Gurgaon/Gurugram</td>\n",
       "      <td>Not disclosed</td>\n",
       "    </tr>\n",
       "    <tr>\n",
       "      <th>2</th>\n",
       "      <td>Snr Global Program Manager &amp; Data Scientist</td>\n",
       "      <td>Orange Business Services</td>\n",
       "      <td>7-12 Yrs</td>\n",
       "      <td>Gurgaon/Gurugram</td>\n",
       "      <td>Not disclosed</td>\n",
       "    </tr>\n",
       "    <tr>\n",
       "      <th>3</th>\n",
       "      <td>Sr. Data Scientist</td>\n",
       "      <td>Thales</td>\n",
       "      <td>3-7 Yrs</td>\n",
       "      <td>Gurgaon/Gurugram</td>\n",
       "      <td>Not disclosed</td>\n",
       "    </tr>\n",
       "    <tr>\n",
       "      <th>4</th>\n",
       "      <td>Data Analyst/ Data Scientist Data Analytics &amp; ...</td>\n",
       "      <td>SGS GLOBAL SERVICES PRIVATE LIMITED</td>\n",
       "      <td>2-4 Yrs</td>\n",
       "      <td>Noida(Sector-2 Noida)</td>\n",
       "      <td>7,50,000 - 12,00,000 PA.</td>\n",
       "    </tr>\n",
       "    <tr>\n",
       "      <th>5</th>\n",
       "      <td>Data Scientist - Python/Machine Learning</td>\n",
       "      <td>Corner Tree Consulting</td>\n",
       "      <td>10-14 Yrs</td>\n",
       "      <td>Mumbai, Chennai, Bangalore/Bengaluru, Delhi / NCR</td>\n",
       "      <td>Not disclosed</td>\n",
       "    </tr>\n",
       "    <tr>\n",
       "      <th>6</th>\n",
       "      <td>Data Scientist - Statistical Modeling</td>\n",
       "      <td>Aviation Indeed</td>\n",
       "      <td>3-8 Yrs</td>\n",
       "      <td>Noida</td>\n",
       "      <td>Not disclosed</td>\n",
       "    </tr>\n",
       "    <tr>\n",
       "      <th>7</th>\n",
       "      <td>Data Scientist</td>\n",
       "      <td>Intrics Solutions Private Limited</td>\n",
       "      <td>5-9 Yrs</td>\n",
       "      <td>Noida</td>\n",
       "      <td>Not disclosed</td>\n",
       "    </tr>\n",
       "    <tr>\n",
       "      <th>8</th>\n",
       "      <td>Data Scientist - Data Science Team - Insurance...</td>\n",
       "      <td>Huquo Consulting Pvt. Ltd</td>\n",
       "      <td>8-13 Yrs</td>\n",
       "      <td>Gurgaon/Gurugram</td>\n",
       "      <td>Not disclosed</td>\n",
       "    </tr>\n",
       "    <tr>\n",
       "      <th>9</th>\n",
       "      <td>Data Scientist - Insurance - IIM/ IIT/ NIT</td>\n",
       "      <td>Huquo Consulting Pvt. Ltd</td>\n",
       "      <td>6-11 Yrs</td>\n",
       "      <td>Gurgaon/Gurugram</td>\n",
       "      <td>Not disclosed</td>\n",
       "    </tr>\n",
       "    <tr>\n",
       "      <th>10</th>\n",
       "      <td>Data Scientist - Insurance - IIM/ IIT/ NIT</td>\n",
       "      <td>Huquo Consulting Pvt. Ltd</td>\n",
       "      <td>12-16 Yrs</td>\n",
       "      <td>Gurgaon/Gurugram</td>\n",
       "      <td>Not disclosed</td>\n",
       "    </tr>\n",
       "    <tr>\n",
       "      <th>11</th>\n",
       "      <td>Data Scientist - Insurance - IIM/IIT/NIT</td>\n",
       "      <td>Huquo Consulting Pvt. Ltd</td>\n",
       "      <td>12-16 Yrs</td>\n",
       "      <td>Gurgaon/Gurugram</td>\n",
       "      <td>Not disclosed</td>\n",
       "    </tr>\n",
       "    <tr>\n",
       "      <th>12</th>\n",
       "      <td>Data Scientist - Python/ Spark/ Neural Networks</td>\n",
       "      <td>Huquo Consulting Pvt. Ltd</td>\n",
       "      <td>7-11 Yrs</td>\n",
       "      <td>Gurgaon/Gurugram</td>\n",
       "      <td>Not disclosed</td>\n",
       "    </tr>\n",
       "    <tr>\n",
       "      <th>13</th>\n",
       "      <td>Python Data Scientist - Banking/ Retail Domain...</td>\n",
       "      <td>Huquo Consulting Pvt. Ltd</td>\n",
       "      <td>1-5 Yrs</td>\n",
       "      <td>Delhi / NCR</td>\n",
       "      <td>Not disclosed</td>\n",
       "    </tr>\n",
       "    <tr>\n",
       "      <th>14</th>\n",
       "      <td>Data Scientist - Python - IIT/DSE/IIMS</td>\n",
       "      <td>Huquo Consulting Pvt. Ltd</td>\n",
       "      <td>2-5 Yrs</td>\n",
       "      <td>Delhi / NCR</td>\n",
       "      <td>Not disclosed</td>\n",
       "    </tr>\n",
       "    <tr>\n",
       "      <th>15</th>\n",
       "      <td>Data Scientist</td>\n",
       "      <td>Huquo Consulting Pvt. Ltd</td>\n",
       "      <td>3-8 Yrs</td>\n",
       "      <td>Gurgaon/Gurugram, Delhi / NCR</td>\n",
       "      <td>Not disclosed</td>\n",
       "    </tr>\n",
       "    <tr>\n",
       "      <th>16</th>\n",
       "      <td>Manager - Data Scientist/Python</td>\n",
       "      <td>Huquo Consulting Pvt. Ltd</td>\n",
       "      <td>5-8 Yrs</td>\n",
       "      <td>Gurgaon/Gurugram</td>\n",
       "      <td>Not disclosed</td>\n",
       "    </tr>\n",
       "    <tr>\n",
       "      <th>17</th>\n",
       "      <td>Assistant Vice President - Data Scientist - KPO</td>\n",
       "      <td>Huquo Consulting Pvt. Ltd</td>\n",
       "      <td>11-17 Yrs</td>\n",
       "      <td>Delhi / NCR</td>\n",
       "      <td>Not disclosed</td>\n",
       "    </tr>\n",
       "    <tr>\n",
       "      <th>18</th>\n",
       "      <td>Data Scientist</td>\n",
       "      <td>Huquo Consulting Pvt. Ltd</td>\n",
       "      <td>3-8 Yrs</td>\n",
       "      <td>Gurgaon/Gurugram, Delhi NCR</td>\n",
       "      <td>Not disclosed</td>\n",
       "    </tr>\n",
       "    <tr>\n",
       "      <th>19</th>\n",
       "      <td>Lead Data Scientist role For a Leading Automob...</td>\n",
       "      <td>SKILLVENTORY</td>\n",
       "      <td>18-23 Yrs</td>\n",
       "      <td>Gurgaon/Gurugram</td>\n",
       "      <td>Not disclosed</td>\n",
       "    </tr>\n",
       "  </tbody>\n",
       "</table>\n",
       "</div>"
      ],
      "text/plain": [
       "                                                title  \\\n",
       "0                  Data Scientist - Immediate Joiners   \n",
       "1               Snr Global Prgm Mngr & Data Scientist   \n",
       "2         Snr Global Program Manager & Data Scientist   \n",
       "3                                  Sr. Data Scientist   \n",
       "4   Data Analyst/ Data Scientist Data Analytics & ...   \n",
       "5            Data Scientist - Python/Machine Learning   \n",
       "6               Data Scientist - Statistical Modeling   \n",
       "7                                      Data Scientist   \n",
       "8   Data Scientist - Data Science Team - Insurance...   \n",
       "9          Data Scientist - Insurance - IIM/ IIT/ NIT   \n",
       "10         Data Scientist - Insurance - IIM/ IIT/ NIT   \n",
       "11           Data Scientist - Insurance - IIM/IIT/NIT   \n",
       "12    Data Scientist - Python/ Spark/ Neural Networks   \n",
       "13  Python Data Scientist - Banking/ Retail Domain...   \n",
       "14             Data Scientist - Python - IIT/DSE/IIMS   \n",
       "15                                     Data Scientist   \n",
       "16                    Manager - Data Scientist/Python   \n",
       "17    Assistant Vice President - Data Scientist - KPO   \n",
       "18                                     Data Scientist   \n",
       "19  Lead Data Scientist role For a Leading Automob...   \n",
       "\n",
       "                                              company experience_required  \\\n",
       "0                                         Bristlecone             5-8 Yrs   \n",
       "1   Orange Business Services India Technology Pvt Ltd             4-8 Yrs   \n",
       "2                            Orange Business Services            7-12 Yrs   \n",
       "3                                              Thales             3-7 Yrs   \n",
       "4                 SGS GLOBAL SERVICES PRIVATE LIMITED             2-4 Yrs   \n",
       "5                              Corner Tree Consulting           10-14 Yrs   \n",
       "6                                     Aviation Indeed             3-8 Yrs   \n",
       "7                   Intrics Solutions Private Limited             5-9 Yrs   \n",
       "8                           Huquo Consulting Pvt. Ltd            8-13 Yrs   \n",
       "9                           Huquo Consulting Pvt. Ltd            6-11 Yrs   \n",
       "10                          Huquo Consulting Pvt. Ltd           12-16 Yrs   \n",
       "11                          Huquo Consulting Pvt. Ltd           12-16 Yrs   \n",
       "12                          Huquo Consulting Pvt. Ltd            7-11 Yrs   \n",
       "13                          Huquo Consulting Pvt. Ltd             1-5 Yrs   \n",
       "14                          Huquo Consulting Pvt. Ltd             2-5 Yrs   \n",
       "15                          Huquo Consulting Pvt. Ltd             3-8 Yrs   \n",
       "16                          Huquo Consulting Pvt. Ltd             5-8 Yrs   \n",
       "17                          Huquo Consulting Pvt. Ltd           11-17 Yrs   \n",
       "18                          Huquo Consulting Pvt. Ltd             3-8 Yrs   \n",
       "19                                       SKILLVENTORY           18-23 Yrs   \n",
       "\n",
       "                                             location  \\\n",
       "0            Noida, Mumbai, Pune, Bangalore/Bengaluru   \n",
       "1                                    Gurgaon/Gurugram   \n",
       "2                                    Gurgaon/Gurugram   \n",
       "3                                    Gurgaon/Gurugram   \n",
       "4                               Noida(Sector-2 Noida)   \n",
       "5   Mumbai, Chennai, Bangalore/Bengaluru, Delhi / NCR   \n",
       "6                                               Noida   \n",
       "7                                               Noida   \n",
       "8                                    Gurgaon/Gurugram   \n",
       "9                                    Gurgaon/Gurugram   \n",
       "10                                   Gurgaon/Gurugram   \n",
       "11                                   Gurgaon/Gurugram   \n",
       "12                                   Gurgaon/Gurugram   \n",
       "13                                        Delhi / NCR   \n",
       "14                                        Delhi / NCR   \n",
       "15                      Gurgaon/Gurugram, Delhi / NCR   \n",
       "16                                   Gurgaon/Gurugram   \n",
       "17                                        Delhi / NCR   \n",
       "18                        Gurgaon/Gurugram, Delhi NCR   \n",
       "19                                   Gurgaon/Gurugram   \n",
       "\n",
       "                      salary  \n",
       "0              Not disclosed  \n",
       "1              Not disclosed  \n",
       "2              Not disclosed  \n",
       "3              Not disclosed  \n",
       "4   7,50,000 - 12,00,000 PA.  \n",
       "5              Not disclosed  \n",
       "6              Not disclosed  \n",
       "7              Not disclosed  \n",
       "8              Not disclosed  \n",
       "9              Not disclosed  \n",
       "10             Not disclosed  \n",
       "11             Not disclosed  \n",
       "12             Not disclosed  \n",
       "13             Not disclosed  \n",
       "14             Not disclosed  \n",
       "15             Not disclosed  \n",
       "16             Not disclosed  \n",
       "17             Not disclosed  \n",
       "18             Not disclosed  \n",
       "19             Not disclosed  "
      ]
     },
     "execution_count": 25,
     "metadata": {},
     "output_type": "execute_result"
    }
   ],
   "source": [
    "jobs"
   ]
  },
  {
   "cell_type": "code",
   "execution_count": null,
   "id": "10891d9a",
   "metadata": {},
   "outputs": [],
   "source": []
  }
 ],
 "metadata": {
  "kernelspec": {
   "display_name": "Python 3",
   "language": "python",
   "name": "python3"
  },
  "language_info": {
   "codemirror_mode": {
    "name": "ipython",
    "version": 3
   },
   "file_extension": ".py",
   "mimetype": "text/x-python",
   "name": "python",
   "nbconvert_exporter": "python",
   "pygments_lexer": "ipython3",
   "version": "3.8.8"
  }
 },
 "nbformat": 4,
 "nbformat_minor": 5
}
